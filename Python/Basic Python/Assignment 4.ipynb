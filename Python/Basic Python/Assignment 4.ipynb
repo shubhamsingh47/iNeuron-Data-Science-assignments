{
 "cells": [
  {
   "cell_type": "markdown",
   "id": "fd5a39f2",
   "metadata": {},
   "source": [
    "# 1. What exactly is []?"
   ]
  },
  {
   "cell_type": "code",
   "execution_count": null,
   "id": "aaa2fc99",
   "metadata": {},
   "outputs": [],
   "source": [
    "#1\n",
    "[] is sqaure bracket mostly used to store or contains element in list."
   ]
  },
  {
   "cell_type": "markdown",
   "id": "857fdbb0",
   "metadata": {},
   "source": [
    "# 2. In a list of values stored in a variable called spam, how would you assign the value hello as the third value? (Assume [2, 4, 6, 8, 10] are in spam.)"
   ]
  },
  {
   "cell_type": "code",
   "execution_count": null,
   "id": "871b50e2",
   "metadata": {},
   "outputs": [],
   "source": [
    "#2\n",
    "l[3]=\"hello\""
   ]
  },
  {
   "cell_type": "markdown",
   "id": "08a420cc",
   "metadata": {},
   "source": [
    "# Lets pretend the spam includes the list [a, b, c, d] for the next three queries.\n",
    "# 3. What is the value of spam[int(int(3 * 2) / 11)]?"
   ]
  },
  {
   "cell_type": "code",
   "execution_count": null,
   "id": "e70bb2b0",
   "metadata": {},
   "outputs": [],
   "source": [
    "#3\n",
    "'d'"
   ]
  },
  {
   "cell_type": "markdown",
   "id": "4ae02b0d",
   "metadata": {},
   "source": [
    "# 4. What is the value of spam[-1]?"
   ]
  },
  {
   "cell_type": "code",
   "execution_count": null,
   "id": "4563ffcf",
   "metadata": {},
   "outputs": [],
   "source": [
    "#4\n",
    "'d'"
   ]
  },
  {
   "cell_type": "markdown",
   "id": "05c77c70",
   "metadata": {},
   "source": [
    "# 5. What is the value of spam[:2]?"
   ]
  },
  {
   "cell_type": "code",
   "execution_count": null,
   "id": "d92beba1",
   "metadata": {},
   "outputs": [],
   "source": [
    "#5\n",
    "['a', 'b']"
   ]
  },
  {
   "cell_type": "markdown",
   "id": "ed17016c",
   "metadata": {},
   "source": [
    "# Lets pretend bacon has the list [3.14, cat, 11, cat, True] for the next three questions.\n",
    "\n",
    "# 6. What is the value of bacon.index(cat)?"
   ]
  },
  {
   "cell_type": "code",
   "execution_count": null,
   "id": "d50519f7",
   "metadata": {},
   "outputs": [],
   "source": [
    "#6\n",
    "1"
   ]
  },
  {
   "cell_type": "markdown",
   "id": "bd8778f2",
   "metadata": {},
   "source": [
    "# 7. How does bacon.append(99) change the look of the list value in bacon?"
   ]
  },
  {
   "cell_type": "code",
   "execution_count": null,
   "id": "6daf9030",
   "metadata": {},
   "outputs": [],
   "source": [
    "#7\n",
    "99 appends(adds) up as the new element to the last in the list."
   ]
  },
  {
   "cell_type": "markdown",
   "id": "90dd6af4",
   "metadata": {},
   "source": [
    "# 8. How does bacon.remove(cat) change the look of the list in bacon?"
   ]
  },
  {
   "cell_type": "code",
   "execution_count": null,
   "id": "f8f54c34",
   "metadata": {},
   "outputs": [],
   "source": [
    "#8\n",
    "it removes the element 'cat' from the list bacon."
   ]
  },
  {
   "cell_type": "markdown",
   "id": "bb7b20c9",
   "metadata": {},
   "source": [
    "# 9. What are the list concatenation and list replication operators?"
   ]
  },
  {
   "cell_type": "code",
   "execution_count": null,
   "id": "908c8523",
   "metadata": {},
   "outputs": [],
   "source": [
    "#9\n",
    "list concatenation operator is \"+\" whereas\n",
    "list replication operator is \"*\" .\n",
    "    for eg.  l=[1,2]\n",
    "             print(l+l+l)-- this is list concatenation\n",
    "             print(l*3) --- this is list replication"
   ]
  },
  {
   "cell_type": "markdown",
   "id": "01649eac",
   "metadata": {},
   "source": [
    "# 10. What is difference between the list methods append() and insert()?"
   ]
  },
  {
   "cell_type": "code",
   "execution_count": null,
   "id": "c28c421d",
   "metadata": {},
   "outputs": [],
   "source": [
    "#10\n",
    "appends = appends adds up the element to the end of list only.\n",
    "insert =  whereas insert adds up the element  to the specified index of the list."
   ]
  },
  {
   "cell_type": "markdown",
   "id": "a8f92fcb",
   "metadata": {},
   "source": [
    "# 11. What are the two methods for removing items from a list?"
   ]
  },
  {
   "cell_type": "code",
   "execution_count": null,
   "id": "164c9448",
   "metadata": {},
   "outputs": [],
   "source": [
    "#11\n",
    "items can be removed by two method:-\n",
    "    1- by remove() method\n",
    "    2- by pop() method"
   ]
  },
  {
   "cell_type": "markdown",
   "id": "086e45a2",
   "metadata": {},
   "source": [
    "# 12. Describe how list values and string values are identical."
   ]
  },
  {
   "cell_type": "code",
   "execution_count": null,
   "id": "326ecfc6",
   "metadata": {},
   "outputs": [],
   "source": [
    "#12\n",
    "list contains values called elements which is written in quotes either single of double which is same in String value."
   ]
  },
  {
   "cell_type": "markdown",
   "id": "a47b1bf9",
   "metadata": {},
   "source": [
    "# 13. Whats the difference between tuples and lists?"
   ]
  },
  {
   "cell_type": "code",
   "execution_count": null,
   "id": "72d9c73c",
   "metadata": {},
   "outputs": [],
   "source": [
    "#13\n",
    "list are mutable object .\n",
    "tuple are immutable object ."
   ]
  },
  {
   "cell_type": "markdown",
   "id": "d9ed2316",
   "metadata": {},
   "source": [
    "# 14. How do you type a tuple value that only contains the integer 42?"
   ]
  },
  {
   "cell_type": "code",
   "execution_count": null,
   "id": "e89945fa",
   "metadata": {},
   "outputs": [],
   "source": [
    "#14\n",
    "we can write t=(54,) to get tuple as its type"
   ]
  },
  {
   "cell_type": "markdown",
   "id": "5183a702",
   "metadata": {},
   "source": [
    "# 15. How do you get a list values tuple form? How do you get a tuple values list form?"
   ]
  },
  {
   "cell_type": "code",
   "execution_count": null,
   "id": "8b86a603",
   "metadata": {},
   "outputs": [],
   "source": [
    "#15\n",
    "list value in tuple form by --\n",
    "    tuple(bacon)\n",
    "tuple value in list --\n",
    "    list(t)"
   ]
  },
  {
   "cell_type": "markdown",
   "id": "cd85d74f",
   "metadata": {},
   "source": [
    "# 16. Variables that \"contain\" list values are not necessarily lists themselves. Instead, what do they contain?"
   ]
  },
  {
   "cell_type": "code",
   "execution_count": null,
   "id": "a63c8e21",
   "metadata": {},
   "outputs": [],
   "source": [
    "# 16\n",
    "it contains references to list values"
   ]
  },
  {
   "cell_type": "markdown",
   "id": "5c8e4ce5",
   "metadata": {},
   "source": [
    "# 17. How do you distinguish between copy.copy() and copy.deepcopy()?"
   ]
  },
  {
   "cell_type": "code",
   "execution_count": null,
   "id": "e5802dc1",
   "metadata": {},
   "outputs": [],
   "source": [
    "#17\n",
    "==> in copy.copy() creates reference to original object . changes made in copy can also make changes in\n",
    "original document , it fails in nested list \n",
    "\n",
    "==> in copy.deepcopy() creates new object and copy the original object into new one and doesnt affects the \n",
    "original object , it does not fails in nested list"
   ]
  }
 ],
 "metadata": {
  "kernelspec": {
   "display_name": "Python 3 (ipykernel)",
   "language": "python",
   "name": "python3"
  },
  "language_info": {
   "codemirror_mode": {
    "name": "ipython",
    "version": 3
   },
   "file_extension": ".py",
   "mimetype": "text/x-python",
   "name": "python",
   "nbconvert_exporter": "python",
   "pygments_lexer": "ipython3",
   "version": "3.9.7"
  }
 },
 "nbformat": 4,
 "nbformat_minor": 5
}
