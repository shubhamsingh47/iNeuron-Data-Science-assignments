{
 "cells": [
  {
   "cell_type": "markdown",
   "id": "4bb46415",
   "metadata": {},
   "source": [
    "# 1.What are the two values of the Boolean data type? How do you write them?"
   ]
  },
  {
   "cell_type": "code",
   "execution_count": null,
   "id": "3aa560f1",
   "metadata": {},
   "outputs": [],
   "source": [
    "#1\n",
    "\n",
    "values of boolean data type are-\n",
    "1-True\n",
    "2-False\n",
    "        it is written as True and False"
   ]
  },
  {
   "cell_type": "markdown",
   "id": "203dd47e",
   "metadata": {},
   "source": [
    "# 2. What are the three different types of Boolean operators?"
   ]
  },
  {
   "cell_type": "code",
   "execution_count": null,
   "id": "0a4b0fac",
   "metadata": {},
   "outputs": [],
   "source": [
    "#2\n",
    "three types of boolean operator are-\n",
    "1- AND  &\n",
    "2- OR   //\n",
    "3- NOT  !"
   ]
  },
  {
   "cell_type": "markdown",
   "id": "4c5d6597",
   "metadata": {},
   "source": [
    "# 3. Make a list of each Boolean operators truth tables (i.e. every possible combination of Boolean values for the operator and what it evaluate )."
   ]
  },
  {
   "cell_type": "code",
   "execution_count": null,
   "id": "ae3a77aa",
   "metadata": {},
   "outputs": [],
   "source": [
    "#3\n",
    "\n",
    "    AND (operator)\n",
    "    \n",
    "True and True = True\n",
    "True and False = False    wherein value of TRUE = 1\n",
    "False and True  = False                    FALSE = 0\n",
    "False and False = False\n",
    "\n",
    "    OR (operator)\n",
    "    \n",
    "True or True = True\n",
    "True or False = True\n",
    "False or True  = True \n",
    "False or False = False\n",
    "\n",
    "    NOT (operator)\n",
    "    \n",
    "True not = False \n",
    "False not = True"
   ]
  },
  {
   "cell_type": "markdown",
   "id": "05db4002",
   "metadata": {},
   "source": [
    "# 4. What are the values of the following expressions? (5 > 4) and (3 == 5) not (5 > 4) (5 > 4) or (3 == 5) not ((5 > 4) or (3 == 5)) (True and True) and (True == False) (not False) or (not True)"
   ]
  },
  {
   "cell_type": "code",
   "execution_count": null,
   "id": "cee9f4cd",
   "metadata": {},
   "outputs": [],
   "source": [
    "#4\n",
    "    \"in given sequemce\"\n",
    "False\n",
    "False\n",
    "True\n",
    "False\n",
    "False\n",
    "True"
   ]
  },
  {
   "cell_type": "markdown",
   "id": "10964df1",
   "metadata": {},
   "source": [
    "# 5. What are the six comparison operators?"
   ]
  },
  {
   "cell_type": "code",
   "execution_count": null,
   "id": "9bfa5cd7",
   "metadata": {},
   "outputs": [],
   "source": [
    "#5\n",
    "\n",
    "  Six comparsion opertor -\n",
    "    1- > (greater than)\n",
    "    2- < (less than)\n",
    "    3- >= (greater than equal to)\n",
    "    4- <= (less than equal to)\n",
    "    5- == (equal to)\n",
    "    6- != (not equal to)"
   ]
  },
  {
   "cell_type": "markdown",
   "id": "bc5e44ab",
   "metadata": {},
   "source": [
    "# 6. How do you tell the difference between the equal to and assignment operators?Describe a condition and when you would use one."
   ]
  },
  {
   "cell_type": "code",
   "execution_count": null,
   "id": "d7972ad2",
   "metadata": {},
   "outputs": [],
   "source": [
    "#6\n",
    "the single operand that is \"=\" is the assignment operator i.e assigning some value particularly to a variable is done by\n",
    "single (=) and equal to contains two operand i.e \"==\" (two equal to)\n",
    "    assignment operator eg  a= 47 i.e Value 47 is stored in variable a ,\n",
    "    whereas in equal to a==47 means that value of a is 47.."
   ]
  },
  {
   "cell_type": "markdown",
   "id": "2a1f03c7",
   "metadata": {},
   "source": [
    "# 7. Identify the three blocks in this code: spam = 0 if spam == 10: print(eggs) if spam > 5: print(bacon) else: print(ham) print(spam) print(spam)"
   ]
  },
  {
   "cell_type": "code",
   "execution_count": null,
   "id": "b94094df",
   "metadata": {},
   "outputs": [],
   "source": [
    "#7\n",
    "\n",
    "three blocks are the Three indent (:) therefore in the code  \n",
    "spam = 0\n",
    "if spam == 10:\n",
    "    print('eggs') ---------Block A\n",
    "    if spam > 5:\n",
    "        print('bacon')-----Block B\n",
    "    else:\n",
    "        print('ham') ------Block c\n",
    "    print('spam')\n",
    "print('spam')"
   ]
  },
  {
   "cell_type": "markdown",
   "id": "a06c07dd",
   "metadata": {},
   "source": [
    "# 8. Write code that prints Hello if 1 is stored in spam, prints Howdy if 2 is stored in spam, and prints => Greetings! if anything else is stored in spam."
   ]
  },
  {
   "cell_type": "code",
   "execution_count": null,
   "id": "a36300fc",
   "metadata": {},
   "outputs": [],
   "source": [
    "#8\n",
    "\n",
    "spam= int(input(\"enter a no:\"))\n",
    "if spam==1:\n",
    "    print(\"hello\")\n",
    "elif spam==2:\n",
    "    print(\"howdy\")\n",
    "else:\n",
    "    print(\"greetings\")"
   ]
  },
  {
   "cell_type": "markdown",
   "id": "00eca4c1",
   "metadata": {},
   "source": [
    "# 9.If your programme is stuck in an endless loop, what keys you’ll press?"
   ]
  },
  {
   "cell_type": "code",
   "execution_count": null,
   "id": "223dd1a9",
   "metadata": {},
   "outputs": [],
   "source": [
    "#9\n",
    "Ans: To stop a program stuck in an infinite loop, we press CTRL-C"
   ]
  },
  {
   "cell_type": "markdown",
   "id": "47732914",
   "metadata": {},
   "source": [
    "# 10. How can you tell the difference between break and continue?"
   ]
  },
  {
   "cell_type": "code",
   "execution_count": null,
   "id": "82eb42a3",
   "metadata": {},
   "outputs": [],
   "source": [
    "#10\n",
    "break= break is a reserve keyword which immediately terminates the entire loop and exits the loop\n",
    "continue = whereas continue skips the current iteration and executes the next iteration"
   ]
  },
  {
   "cell_type": "markdown",
   "id": "62fbb4b2",
   "metadata": {},
   "source": [
    "# 11. In a for loop, what is the difference between range(10), range(0, 10), and range(0, 10, 1)?"
   ]
  },
  {
   "cell_type": "code",
   "execution_count": null,
   "id": "d61ac726",
   "metadata": {},
   "outputs": [],
   "source": [
    "#11\n",
    "\n",
    "The range(10) call range from 0 to 9 (but not include 10)\n",
    "The range (0,10) explicitly tells the loop to start at 0 (but also not include 10)\n",
    "The range(0,10,1) explicitly tells the loop to increase the variable by 1 on each iteration (but also not include 10)\n",
    "\n",
    "therefore there is kind of no differnce between range(10), range(0, 10), and range(0, 10, 1)"
   ]
  },
  {
   "cell_type": "markdown",
   "id": "8413c200",
   "metadata": {},
   "source": [
    "# 12. Write a short program that prints the numbers 1 to 10 using a for loop. Then write an equivalent program that prints the numbers 1 to 10 using a while loop."
   ]
  },
  {
   "cell_type": "code",
   "execution_count": null,
   "id": "263a9dc8",
   "metadata": {},
   "outputs": [],
   "source": [
    "#12\n",
    "    \"for loop\"\n",
    "for i in range(1,11,1):\n",
    "    print(i)\n",
    "    \"while loop\"\n",
    "i=1\n",
    "while(i<=10):\n",
    "    print(i)\n",
    "    i+=1"
   ]
  },
  {
   "cell_type": "markdown",
   "id": "e722506e",
   "metadata": {},
   "source": [
    "# 13. If you had a function named bacon() inside a module named spam, how would you call it after importing spam?"
   ]
  },
  {
   "cell_type": "code",
   "execution_count": null,
   "id": "24f43a8b",
   "metadata": {},
   "outputs": [],
   "source": [
    "#13\n",
    "after importing we can simply call the function as spam.bacon()  "
   ]
  }
 ],
 "metadata": {
  "kernelspec": {
   "display_name": "Python 3 (ipykernel)",
   "language": "python",
   "name": "python3"
  },
  "language_info": {
   "codemirror_mode": {
    "name": "ipython",
    "version": 3
   },
   "file_extension": ".py",
   "mimetype": "text/x-python",
   "name": "python",
   "nbconvert_exporter": "python",
   "pygments_lexer": "ipython3",
   "version": "3.9.7"
  }
 },
 "nbformat": 4,
 "nbformat_minor": 5
}
