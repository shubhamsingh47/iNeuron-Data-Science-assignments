{
 "cells": [
  {
   "cell_type": "markdown",
   "id": "26d5f3f0",
   "metadata": {},
   "source": [
    "# 1. In the below elements which of them are values or an expression? eg:- values can be integer or string and expressions will be mathematical operators.\n",
    "*\n",
    "&#39;hello&#39;\n",
    "-87.8\n",
    "-\n",
    "/\n",
    "+\n",
    "6\n"
   ]
  },
  {
   "cell_type": "code",
   "execution_count": null,
   "id": "5eeb6bf0",
   "metadata": {},
   "outputs": [],
   "source": [
    "#1\n",
    "In above expression:\n",
    "values are     = [\"hello\", -87.8 ,6]\n",
    "expression are = [*, - , + , /]"
   ]
  },
  {
   "cell_type": "markdown",
   "id": "8942f0ff",
   "metadata": {},
   "source": [
    "# 2. What is the difference between string and variable?"
   ]
  },
  {
   "cell_type": "code",
   "execution_count": null,
   "id": "1ba889f4",
   "metadata": {},
   "outputs": [],
   "source": [
    "#2\n",
    "string=string is combination of words ,numbers etc in \n",
    "variable= variables are alphabetical characters"
   ]
  },
  {
   "cell_type": "markdown",
   "id": "c92c45d4",
   "metadata": {},
   "source": [
    "# 3. Describe three different data types."
   ]
  },
  {
   "cell_type": "code",
   "execution_count": null,
   "id": "53d49821",
   "metadata": {},
   "outputs": [],
   "source": [
    "#3\n",
    "three different data types are :-\n",
    "    1- int = int refers to any integer value..  eg. 2,987,-565 etc\n",
    "    2- float= float refers to any decimal value.. eg. 3.14,13.29 etc\n",
    "    3- bool = bool i.e boolean represents any true value of an expression . eg.True, False"
   ]
  },
  {
   "cell_type": "markdown",
   "id": "4e8c4e3f",
   "metadata": {},
   "source": [
    "# 4. What is an expression made up of? What do all expressions do?"
   ]
  },
  {
   "cell_type": "code",
   "execution_count": null,
   "id": "d2501d47",
   "metadata": {},
   "outputs": [],
   "source": [
    "#4\n",
    "expressions are made up of variables , operators , function .\n",
    "expression are used to compare , represent character"
   ]
  },
  {
   "cell_type": "markdown",
   "id": "68877724",
   "metadata": {},
   "source": [
    "# 5. This assignment statements, like spam = 10. What is the difference between an expression and a statement?"
   ]
  },
  {
   "cell_type": "code",
   "execution_count": null,
   "id": "1f9479f3",
   "metadata": {},
   "outputs": [],
   "source": [
    "#5\n",
    "expression evaluates to a value and it does not changes state .\n",
    "whereas statement executes something and changes its state after executing"
   ]
  },
  {
   "cell_type": "markdown",
   "id": "daba05da",
   "metadata": {},
   "source": [
    "# 6. After running the following code, what does the variable bacon contain?bacon = 22 bacon + 1"
   ]
  },
  {
   "cell_type": "code",
   "execution_count": null,
   "id": "b4a322f9",
   "metadata": {},
   "outputs": [],
   "source": [
    "#6 \n",
    "bacon=23"
   ]
  },
  {
   "cell_type": "markdown",
   "id": "e595518a",
   "metadata": {},
   "source": [
    "# 7. What should the values of the following two terms be?'spam' + 'spamspam' 'spam' * 3\n"
   ]
  },
  {
   "cell_type": "code",
   "execution_count": null,
   "id": "8385eff1",
   "metadata": {},
   "outputs": [],
   "source": [
    "#7\n",
    "spamspamspam"
   ]
  },
  {
   "cell_type": "markdown",
   "id": "ca6e2537",
   "metadata": {},
   "source": [
    "# 8. Why is eggs a valid variable name while 100 is invalid?"
   ]
  },
  {
   "cell_type": "code",
   "execution_count": null,
   "id": "4a3bc1fc",
   "metadata": {},
   "outputs": [],
   "source": [
    "#8 \n",
    "as variables are alphabetical characters,therefore eggs can be variable but not 100 as 100 is constant"
   ]
  },
  {
   "cell_type": "markdown",
   "id": "374d4000",
   "metadata": {},
   "source": [
    "# 9. What three functions can be used to get the integer, floating-point number, or string version of a value?"
   ]
  },
  {
   "cell_type": "code",
   "execution_count": null,
   "id": "56b7b33e",
   "metadata": {},
   "outputs": [],
   "source": [
    "#9\n",
    "int can be used to get integer value \n",
    "float can be used to get floating point value\n",
    "str can be used to get string value"
   ]
  },
  {
   "cell_type": "markdown",
   "id": "731bd180",
   "metadata": {},
   "source": [
    "# 10. Why does this expression cause an error? How can you fix it?  'I have eaten' + 99 + 'burritos'"
   ]
  },
  {
   "cell_type": "code",
   "execution_count": null,
   "id": "de98b917",
   "metadata": {},
   "outputs": [],
   "source": [
    "#10\n",
    "According to the given expression error is caused because string cannot be concatenated with integer value.\n",
    "To rectify the error 99 can be stored in single quote or doubles quotes and then the full expression will be concatenated ,\n",
    "    like = 'I have eaten ' + '99' + ' burritos.'"
   ]
  }
 ],
 "metadata": {
  "kernelspec": {
   "display_name": "Python 3 (ipykernel)",
   "language": "python",
   "name": "python3"
  },
  "language_info": {
   "codemirror_mode": {
    "name": "ipython",
    "version": 3
   },
   "file_extension": ".py",
   "mimetype": "text/x-python",
   "name": "python",
   "nbconvert_exporter": "python",
   "pygments_lexer": "ipython3",
   "version": "3.9.7"
  }
 },
 "nbformat": 4,
 "nbformat_minor": 5
}
