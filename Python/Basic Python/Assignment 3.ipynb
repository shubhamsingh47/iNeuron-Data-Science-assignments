{
 "cells": [
  {
   "cell_type": "markdown",
   "id": "138abf25",
   "metadata": {},
   "source": [
    "# 1. Why are functions advantageous to have in your programs?"
   ]
  },
  {
   "cell_type": "code",
   "execution_count": null,
   "id": "3b626116",
   "metadata": {},
   "outputs": [],
   "source": [
    "#1\n",
    "1-function avoids repitition of writing of codes \n",
    "2-it also helps to reduce error by making it readable\n",
    "3-Divide a complex problem into simpler ones.\n",
    "4-Reduces chances of error."
   ]
  },
  {
   "cell_type": "markdown",
   "id": "23030725",
   "metadata": {},
   "source": [
    "# 2. When does the code in a function run: when its specified or when its called?"
   ]
  },
  {
   "cell_type": "code",
   "execution_count": null,
   "id": "e31e9a45",
   "metadata": {},
   "outputs": [],
   "source": [
    "#2\n",
    "The code in a function runs when it is called and not when specified"
   ]
  },
  {
   "cell_type": "markdown",
   "id": "ae3d248d",
   "metadata": {},
   "source": [
    "# 3. What statement creates a function?"
   ]
  },
  {
   "cell_type": "code",
   "execution_count": null,
   "id": "bf4e03fe",
   "metadata": {},
   "outputs": [],
   "source": [
    "#3\n",
    "The def statement defines a function"
   ]
  },
  {
   "cell_type": "markdown",
   "id": "380a9222",
   "metadata": {},
   "source": [
    "# 4. What is the difference between a function and a function call?"
   ]
  },
  {
   "cell_type": "code",
   "execution_count": null,
   "id": "77f9c15a",
   "metadata": {},
   "outputs": [],
   "source": [
    "#4\n",
    "function is made to achieve some specified task \n",
    "whereas function call means to call that  particular function which will after achieve that goal or task."
   ]
  },
  {
   "cell_type": "markdown",
   "id": "89f5af22",
   "metadata": {},
   "source": [
    "# 5. How many global scopes are there in a Python program? How many local scopes?"
   ]
  },
  {
   "cell_type": "code",
   "execution_count": null,
   "id": "f5e45525",
   "metadata": {},
   "outputs": [],
   "source": [
    "#5\n",
    "there is only one global scope in python program .\n",
    "there can be many multiple local scopes in python program ."
   ]
  },
  {
   "cell_type": "markdown",
   "id": "e9571b73",
   "metadata": {},
   "source": [
    "# 6. What happens to variables in a local scope when the function call returns?"
   ]
  },
  {
   "cell_type": "code",
   "execution_count": null,
   "id": "99ef5ba5",
   "metadata": {},
   "outputs": [],
   "source": [
    "#6\n",
    "varaiables returns and retains the value when the function get called and terminates the function"
   ]
  },
  {
   "cell_type": "markdown",
   "id": "94c768ae",
   "metadata": {},
   "source": [
    "# 7. What is the concept of a return value? Is it possible to have a return value in an expression?"
   ]
  },
  {
   "cell_type": "code",
   "execution_count": null,
   "id": "e1696b19",
   "metadata": {},
   "outputs": [],
   "source": [
    "#7\n",
    "The Python return statement is a key component of functions and methods.\n",
    "We can use the return statement to make functions send Python objects back to the caller code.\n",
    "These objects are known as the function’s return value. A return value is the value that a function call evaluates to. \n",
    "Like any value, a return value can be used as part of an expression."
   ]
  },
  {
   "cell_type": "markdown",
   "id": "0606616d",
   "metadata": {},
   "source": [
    "# 8. If a function does not have a return statement, what is the return value of a call to that function?"
   ]
  },
  {
   "cell_type": "code",
   "execution_count": null,
   "id": "81dbb39b",
   "metadata": {},
   "outputs": [],
   "source": [
    "#8\n",
    "If there is no return statement for a function, its return value is None.\n",
    "The function always returns None if explicit return is not written."
   ]
  },
  {
   "cell_type": "markdown",
   "id": "db760742",
   "metadata": {},
   "source": [
    "# 9. How do you make a function variable refer to the global variable?"
   ]
  },
  {
   "cell_type": "code",
   "execution_count": null,
   "id": "e416e899",
   "metadata": {},
   "outputs": [],
   "source": [
    "#9\n",
    "A global statement will force a variable in a function to refer to the global variable.\n",
    "If you want to refer to a global variable in a function,you can use the global keyword to declare which variables are global."
   ]
  },
  {
   "cell_type": "markdown",
   "id": "ea03b444",
   "metadata": {},
   "source": [
    "# 10. What is the data type of None?"
   ]
  },
  {
   "cell_type": "code",
   "execution_count": null,
   "id": "6f24f786",
   "metadata": {},
   "outputs": [],
   "source": [
    "#10\n",
    "The data type is Nonetype"
   ]
  },
  {
   "cell_type": "markdown",
   "id": "65615d2c",
   "metadata": {},
   "source": [
    "# 11. What does the sentence import areallyourpetsnamederic do?"
   ]
  },
  {
   "cell_type": "code",
   "execution_count": null,
   "id": "e49898c2",
   "metadata": {},
   "outputs": [],
   "source": [
    "#11\n",
    "there is no module named as areallyourpetsnamederic , so it will throw an error "
   ]
  },
  {
   "cell_type": "markdown",
   "id": "c5c5929d",
   "metadata": {},
   "source": [
    "# 12. If you had a bacon() feature in a spam module, what would you call it after importing spam?"
   ]
  },
  {
   "cell_type": "code",
   "execution_count": null,
   "id": "44b979c7",
   "metadata": {},
   "outputs": [],
   "source": [
    "#12\n",
    "That import statement imports a module named areallyourpetsnamederic if there is any. if not it will give error."
   ]
  },
  {
   "cell_type": "markdown",
   "id": "ce134efa",
   "metadata": {},
   "source": [
    "# 13. What can you do to save a programme from crashing if it encounters an error?"
   ]
  },
  {
   "cell_type": "code",
   "execution_count": null,
   "id": "dfde3ae0",
   "metadata": {},
   "outputs": [],
   "source": [
    "#13\n",
    "we can move the code in try and except statement .Except will throw error instead of crashing the program."
   ]
  },
  {
   "cell_type": "markdown",
   "id": "d941cb7e",
   "metadata": {},
   "source": [
    "# 14. What is the purpose of the try clause? What is the purpose of the except clause?"
   ]
  },
  {
   "cell_type": "code",
   "execution_count": null,
   "id": "b7451599",
   "metadata": {},
   "outputs": [],
   "source": [
    "#14\n",
    "try blocks lets you test a block of code for errors.\n",
    "except blocks lets you handle those errors."
   ]
  }
 ],
 "metadata": {
  "kernelspec": {
   "display_name": "Python 3 (ipykernel)",
   "language": "python",
   "name": "python3"
  },
  "language_info": {
   "codemirror_mode": {
    "name": "ipython",
    "version": 3
   },
   "file_extension": ".py",
   "mimetype": "text/x-python",
   "name": "python",
   "nbconvert_exporter": "python",
   "pygments_lexer": "ipython3",
   "version": "3.9.7"
  }
 },
 "nbformat": 4,
 "nbformat_minor": 5
}
