{
 "cells": [
  {
   "cell_type": "markdown",
   "id": "f6be0661",
   "metadata": {},
   "source": [
    "### Q1. In Python 3.X, what are the names and functions of string object types?"
   ]
  },
  {
   "cell_type": "raw",
   "id": "ffa3e49d",
   "metadata": {},
   "source": [
    "Python has a set of built-in methods that you can use on strings.\n",
    "\n",
    "Note: All string methods returns new values. They do not change the original string.\n",
    "\n",
    "Method ---------------Description\n",
    "\n",
    "capitalize() -----------Converts the first character to upper case\n",
    "\n",
    "casefold() -----------Converts string into lower case\n",
    "\n",
    "center() ------------Returns a centered string\n",
    "\n",
    "count() --------------Returns the number of times a specified value occurs in a string\n",
    "\n",
    "encode() -----------Returns an encoded version of the string\n",
    "\n",
    "endswith() -------------Returns true if the string ends with the specified value\n",
    "\n",
    "expandtabs() ----------Sets the tab size of the string\n",
    "\n",
    "find() ----------Searches the string for a specified value and returns the position of where it was found\n",
    "\n",
    "format() ----------Formats specified values in a string\n",
    "\n",
    "format_map() ---------Formats specified values in a string\n",
    "\n",
    "index() ----------Searches the string for a specified value and returns the position of where it was found\n",
    "\n",
    "isalnum() -----------Returns True if all characters in the string are alphanumeric\n",
    "\n",
    "isalpha() --------Returns True if all characters in the string are in the alphabet\n",
    "\n",
    "isascii() -------Returns True if all characters in the string are ascii characters\n",
    "\n",
    "isdecimal() -------Returns True if all characters in the string are decimals\n",
    "\n",
    "isdigit() ----------Returns True if all characters in the string are digits\n",
    "\n",
    "isidentifier() --------Returns True if the string is an identifier\n",
    "\n",
    "islower() --------Returns True if all characters in the string are lower case\n",
    "\n",
    "isnumeric() -------Returns True if all characters in the string are numeric\n",
    "\n",
    "isprintable() ------Returns True if all characters in the string are printable\n",
    "\n",
    "isspace() -----Returns True if all characters in the string are whitespaces\n",
    "\n",
    "istitle() --------Returns True if the string follows the rules of a title\n",
    "\n",
    "isupper() ------Returns True if all characters in the string are upper case\n",
    "\n",
    "join() --------Converts the elements of an iterable into a string\n",
    "\n",
    "ljust() ----------Returns a left justified version of the string\n",
    "\n",
    "lower() -------Converts a string into lower case\n",
    "\n",
    "lstrip() --------Returns a left trim version of the string\n",
    "\n",
    "maketrans() --------Returns a translation table to be used in translations\n",
    "\n",
    "partition() ----------Returns a tuple where the string is parted into three parts\n",
    "\n",
    "replace() ---------Returns a string where a specified value is replaced with a specified value\n",
    "\n",
    "rfind() --------Searches the string for a specified value and returns the last position of where it was found\n",
    "\n",
    "rindex() ---------Searches the string for a specified value and returns the last position of where it was found\n",
    "\n",
    "rjust() -------Returns a right justified version of the string\n",
    "\n",
    "rpartition() -------Returns a tuple where the string is parted into three parts\n",
    "\n",
    "rsplit() ----------Splits the string at the specified separator, and returns a list\n",
    "\n",
    "rstrip() --------Returns a right trim version of the string\n",
    "\n",
    "split() --------Splits the string at the specified separator, and returns a list\n",
    "\n",
    "splitlines() -----------Splits the string at line breaks and returns a list\n",
    "\n",
    "startswith() --------Returns true if the string starts with the specified value\n",
    "\n",
    "strip() -------Returns a trimmed version of the string\n",
    "\n",
    "swapcase() -------Swaps cases, lower case becomes upper case and vice versa\n",
    "\n",
    "title() ----------Converts the first character of each word to upper case\n",
    "\n",
    "translate() --------Returns a translated string\n",
    "\n",
    "upper() ---------Converts a string into upper case\n",
    "\n",
    "zfill() --------Fills the string with a specified number of 0 values at the beginning.isdecimal() -> Returns True if all characters in a string are decimal."
   ]
  },
  {
   "cell_type": "markdown",
   "id": "67e0dd1f",
   "metadata": {},
   "source": [
    "### Q2. How do the string forms in Python 3.X vary in terms of operations?"
   ]
  },
  {
   "cell_type": "code",
   "execution_count": null,
   "id": "2a3d50c1",
   "metadata": {},
   "outputs": [],
   "source": [
    "In Python3 default format of strings is Unicode Whereas in Python2 we need to explicitly mention Unicode value using u"
   ]
  },
  {
   "cell_type": "markdown",
   "id": "2db30b34",
   "metadata": {},
   "source": [
    "### Q3. In 3.X, how do you put non-ASCII Unicode characters in a string?"
   ]
  },
  {
   "cell_type": "code",
   "execution_count": null,
   "id": "8d4b4603",
   "metadata": {},
   "outputs": [],
   "source": [
    "In Python 3.X 'unidecode()' method from unidecode library can be used to put non-ASCII Unicode Characters in a string."
   ]
  },
  {
   "cell_type": "markdown",
   "id": "59efd680",
   "metadata": {},
   "source": [
    "### Q4. In Python 3.X, what are the key differences between text-mode and binary-mode files?"
   ]
  },
  {
   "cell_type": "code",
   "execution_count": null,
   "id": "893fb689",
   "metadata": {},
   "outputs": [],
   "source": [
    "When a file is opened in text mode, reading its data automatically decodes its content (as per the platform default or as per\n",
    "provided encoding), and returns it as a str; writing operation takes a str, and automatically encodes it before transferring to \n",
    "the file. Text mode files also support universal end-of-line translation, and encoding specification arguments.\n",
    "\n",
    "When a file is opened in binary mode by adding a b to the mode string argument in the open() call, reading its data does not \n",
    "decode it in any way, and simply returns its content raw and unchanged, as a bytes object; writing takes a bytes object and\n",
    "transfers it to the file unchanged. Binary-mode files also accept a bytearray object for the content to be written to the file."
   ]
  },
  {
   "cell_type": "markdown",
   "id": "2ff58f4a",
   "metadata": {},
   "source": [
    "### Q5. How can you interpret a Unicode text file containing text encoded in a different encoding than your platform's default?"
   ]
  },
  {
   "cell_type": "code",
   "execution_count": null,
   "id": "029335bd",
   "metadata": {},
   "outputs": [],
   "source": [
    "Use of encode() and decode() method can be used to you interpret a Unicode text file containing text encoded in a different \n",
    "encoding than your platforms default, by default encoding parameter is 'UTF-8'."
   ]
  },
  {
   "cell_type": "markdown",
   "id": "cce5f243",
   "metadata": {},
   "source": [
    "### Q6. What is the best way to make a Unicode text file in a particular encoding format?"
   ]
  },
  {
   "cell_type": "code",
   "execution_count": null,
   "id": "626f5c72",
   "metadata": {},
   "outputs": [],
   "source": [
    "Use str.encode() and file.write() to make a Unicode text file in a particular encoding format, default encoding format is UTF-8\n",
    "\n",
    "Call str.encode(encoding) with encoding set to utf-8 to encode str.\n",
    "Call open(file, mode) to open a file with mode set to wb . wb writes to files in binary mode and preserves UTF-8 format.\n",
    "Call file.write(data) to write data to the file."
   ]
  },
  {
   "cell_type": "markdown",
   "id": "5d8b9518",
   "metadata": {},
   "source": [
    "### Q7. What qualifies ASCII text as a form of Unicode text?"
   ]
  },
  {
   "cell_type": "code",
   "execution_count": null,
   "id": "ba227adb",
   "metadata": {},
   "outputs": [],
   "source": [
    "       Unicode represents most written languages in the world. ASCII has its equivalent in Unicode. The difference between ASCII\n",
    "and Unicode is that ASCII represents lowercase letters (a-z), uppercase letters (A-Z), digits (0–9) and symbols such as \n",
    "punctuation marks while Unicode represents letters of English, Arabic, Greek etc. mathematical symbols, historical scripts,\n",
    "emoji covering a wide range of characters than ASCII."
   ]
  },
  {
   "cell_type": "markdown",
   "id": "0905d17d",
   "metadata": {},
   "source": [
    "### Q8. How much of an effect does the change in string types in Python 3.X have on your code?"
   ]
  },
  {
   "cell_type": "code",
   "execution_count": null,
   "id": "309f65e7",
   "metadata": {},
   "outputs": [],
   "source": [
    "Python 3 stores strings as Unicode by default whereas Python 2 requires you to mark a string with a u if we want to store it\n",
    "as Unicode. Unicode strings are more versatile than ASCII strings, which are the Python 3.X default, as they can store letters\n",
    "from foreign languages as well as emoji and the standard Roman letters and numerals."
   ]
  }
 ],
 "metadata": {
  "kernelspec": {
   "display_name": "Python 3 (ipykernel)",
   "language": "python",
   "name": "python3"
  },
  "language_info": {
   "codemirror_mode": {
    "name": "ipython",
    "version": 3
   },
   "file_extension": ".py",
   "mimetype": "text/x-python",
   "name": "python",
   "nbconvert_exporter": "python",
   "pygments_lexer": "ipython3",
   "version": "3.9.7"
  }
 },
 "nbformat": 4,
 "nbformat_minor": 5
}
