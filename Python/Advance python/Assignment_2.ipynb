{
 "cells": [
  {
   "cell_type": "markdown",
   "id": "acff3cf6",
   "metadata": {},
   "source": [
    "### Q1. What is the relationship between classes and modules?"
   ]
  },
  {
   "cell_type": "code",
   "execution_count": null,
   "id": "3d5d0604",
   "metadata": {},
   "outputs": [],
   "source": [
    " A Python class is like an outline for creating a new object. An object is anything that we wish to change while working through the code. \n",
    "Every time a class object is instantiated, which is when we declare a variable, a new object is initiated from scratch.\n",
    "\n",
    "Whereas in Python, Modules are simply files with the .py extension containing Python code that can be imported inside another Python Program. \n",
    "In simple terms, we can consider a module to be the same as a code library or a file that contains a set of functions/Classes that we want to include in our application."
   ]
  },
  {
   "cell_type": "markdown",
   "id": "fa1a94a0",
   "metadata": {},
   "source": [
    "### Q2. How do you make instances and classes?"
   ]
  },
  {
   "cell_type": "code",
   "execution_count": null,
   "id": "ba025d28",
   "metadata": {},
   "outputs": [],
   "source": [
    "For creating a class instance. we call a class by its name and pass the arguments which its __init__ method accepts.\n",
    "\n",
    "#Example: \n",
    "bat = sports('MRF',2000), Here bat is an instance of class sports with attriubutes 'MRF' and 2000.\n",
    "\n",
    "Whereas for creating a class, we use the Class keyword. Class keyword is followed by classname and semicolon.\n",
    "\n",
    "#Example: \n",
    "Here Employee is a class created with class keyword with arguments gender and salary.\n",
    "\n",
    "class Employee: \n",
    "    def __init__(self, gender,salary): \n",
    "        self.gender = gender \n",
    "        self.salary = salary"
   ]
  },
  {
   "cell_type": "markdown",
   "id": "1efb58f4",
   "metadata": {},
   "source": [
    "### Q3. Where and how should be class attributes created?"
   ]
  },
  {
   "cell_type": "code",
   "execution_count": null,
   "id": "b804085c",
   "metadata": {},
   "outputs": [],
   "source": [
    "Class attributes belong to the class itself. these attributes will be shared by all the instances of the class. \n",
    "Hence these attributes are usually created/defined in the top of class definiation outside all methods."
   ]
  },
  {
   "cell_type": "markdown",
   "id": "ae309247",
   "metadata": {},
   "source": [
    "### Q4. Where and how are instance attributes created?"
   ]
  },
  {
   "cell_type": "code",
   "execution_count": null,
   "id": "e1953cf7",
   "metadata": {},
   "outputs": [],
   "source": [
    "Instances attributes are passed to the class when an object of the class is created. Unlike class attributes, instance attributes are not shared by all objects of the classs. \n",
    "Instead each object maintains its own copy of instance attributes at object level whereas incase of class attributes, all instances of class refer to a single copy. \n",
    "Usually instance attributes are defined within the __init__ method of class."
   ]
  },
  {
   "cell_type": "markdown",
   "id": "a9d667e9",
   "metadata": {},
   "source": [
    "### Q5. What does the term \"self\" in a Python class mean?"
   ]
  },
  {
   "cell_type": "code",
   "execution_count": null,
   "id": "48d1bb47",
   "metadata": {},
   "outputs": [],
   "source": [
    "self represents the instance of the class (it represents the object itself). By using the “self” keyword we can access the attributes and methods of the class with in the class in python. \n",
    "It binds the attributes with the given arguments.\n",
    "\n",
    "# example:\n",
    "class Employee: \n",
    "    def __init__(self, gender,salary): \n",
    "        self.gender = gender \n",
    "        self.salary = salary"
   ]
  },
  {
   "cell_type": "markdown",
   "id": "92ed41d8",
   "metadata": {},
   "source": [
    "### Q6. How does a Python class handle operator overloading?"
   ]
  },
  {
   "cell_type": "code",
   "execution_count": null,
   "id": "79d425d4",
   "metadata": {},
   "outputs": [],
   "source": [
    "Python Classes handle operator overloading by using special methods called Magic methods. \n",
    "These special methods usually begin and end with __ [double underscore]"
   ]
  },
  {
   "cell_type": "markdown",
   "id": "a5caa4db",
   "metadata": {},
   "source": [
    "### Q7. When do you consider allowing operator overloading of your classes?"
   ]
  },
  {
   "cell_type": "code",
   "execution_count": null,
   "id": "60050121",
   "metadata": {},
   "outputs": [],
   "source": [
    "We consider allowing operator overloading when we want to have different meaning for the same operator. \n",
    "    For example operator '+' is used to add two integers as well as join two strings and merge two lists. \n",
    "It is achievable because '+' operator is overloaded by int class and str class."
   ]
  },
  {
   "cell_type": "markdown",
   "id": "75fb22aa",
   "metadata": {},
   "source": [
    "### Q8. What is the most popular form of operator overloading?"
   ]
  },
  {
   "cell_type": "code",
   "execution_count": null,
   "id": "e7a07218",
   "metadata": {},
   "outputs": [],
   "source": [
    "Ans: The most popular form of operator overloading in python is by special methods called Magic methods. \n",
    "    It usually begins and ends with double underscore ____."
   ]
  },
  {
   "cell_type": "markdown",
   "id": "98084a87",
   "metadata": {},
   "source": [
    "### Q9. What are the two most important concepts to grasp in order to comprehend Python OOP code?"
   ]
  },
  {
   "cell_type": "code",
   "execution_count": null,
   "id": "9938486d",
   "metadata": {},
   "outputs": [],
   "source": [
    "Classes and objects are the two most important concepts to grasp in order to comprehend python OOP code as more formally objects are entities that represent instances of general abstract concept called class.\n",
    "\n",
    "Along with classes and objects the important concepts to grasp are:\n",
    "\n",
    "1- Inheritence\n",
    "2- Abstraction\n",
    "3- Polymorphism\n",
    "4- Encapsulation"
   ]
  }
 ],
 "metadata": {
  "kernelspec": {
   "display_name": "Python 3 (ipykernel)",
   "language": "python",
   "name": "python3"
  },
  "language_info": {
   "codemirror_mode": {
    "name": "ipython",
    "version": 3
   },
   "file_extension": ".py",
   "mimetype": "text/x-python",
   "name": "python",
   "nbconvert_exporter": "python",
   "pygments_lexer": "ipython3",
   "version": "3.9.7"
  }
 },
 "nbformat": 4,
 "nbformat_minor": 5
}
