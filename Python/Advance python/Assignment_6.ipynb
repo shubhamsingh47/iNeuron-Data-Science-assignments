{
 "cells": [
  {
   "cell_type": "markdown",
   "id": "f81836d2",
   "metadata": {},
   "source": [
    "### Q1. Describe three applications for exception processing."
   ]
  },
  {
   "cell_type": "code",
   "execution_count": null,
   "id": "940c3147",
   "metadata": {},
   "outputs": [],
   "source": [
    "Exception Processing is important to find exceptions that causes the runtime error as runtime errors halt the program execution \n",
    "when exception occurs.\n",
    "\n",
    "Exception Processing is used in Various Applications. Few examples are:\n",
    "\n",
    "1- Checking Appropriate use of input in an application\n",
    "2- Checking for Arithmetic exceptions in mathematical executions\n",
    "3- Checking File I/O exceptions during File handling"
   ]
  },
  {
   "cell_type": "markdown",
   "id": "d5bb5524",
   "metadata": {},
   "source": [
    "### Q2. What happens if you don't do something extra to treat an exception?"
   ]
  },
  {
   "cell_type": "code",
   "execution_count": null,
   "id": "1fa185ce",
   "metadata": {},
   "outputs": [],
   "source": [
    "If Exceptions are not handled, flow of program will be broken during the run time which might lead to an abnormal termination\n",
    "of the program. Inshort,\n",
    "        Inability of program to handle exceptions will result in crashing of program and we will not be able to get the \n",
    "desired result."
   ]
  },
  {
   "cell_type": "markdown",
   "id": "d30edd0c",
   "metadata": {},
   "source": [
    "### Q3. What are your options for recovering from an exception in your script?"
   ]
  },
  {
   "cell_type": "code",
   "execution_count": null,
   "id": "42c3e1e9",
   "metadata": {},
   "outputs": [],
   "source": [
    "Python provides 'try' and 'except' statements for recovering from an exception in our script.\n",
    "\n",
    "Example:\n",
    "try:\n",
    "    print(x)\n",
    "except:\n",
    "      print(\"An exception occurred\") "
   ]
  },
  {
   "cell_type": "markdown",
   "id": "8b5bf61e",
   "metadata": {},
   "source": [
    "### Q4. Describe two methods for triggering exceptions in your script."
   ]
  },
  {
   "cell_type": "code",
   "execution_count": null,
   "id": "11c77899",
   "metadata": {},
   "outputs": [],
   "source": [
    "'raise' and 'assert' are two methods that can be used to trigger manual exceptions in our script.\n",
    "\n",
    "1 - raise method triggers an exception if condition provided to it turns out to be True.\n",
    "2 - assert will let the program to continue execution if condition provided to it turns out to be True \n",
    "else exception will be raised."
   ]
  },
  {
   "cell_type": "markdown",
   "id": "1f3f09bc",
   "metadata": {},
   "source": [
    "### Q5. Identify two methods for specifying actions to be executed at termination time, regardless of whether or not an exception exists."
   ]
  },
  {
   "cell_type": "code",
   "execution_count": null,
   "id": "fbc5b303",
   "metadata": {},
   "outputs": [],
   "source": [
    "Python Provides 'else' and 'finally' blocks for specifying actions to be executed at termination time, regardless of whether an\n",
    "exceptions exists or not."
   ]
  }
 ],
 "metadata": {
  "kernelspec": {
   "display_name": "Python 3 (ipykernel)",
   "language": "python",
   "name": "python3"
  },
  "language_info": {
   "codemirror_mode": {
    "name": "ipython",
    "version": 3
   },
   "file_extension": ".py",
   "mimetype": "text/x-python",
   "name": "python",
   "nbconvert_exporter": "python",
   "pygments_lexer": "ipython3",
   "version": "3.9.7"
  }
 },
 "nbformat": 4,
 "nbformat_minor": 5
}
