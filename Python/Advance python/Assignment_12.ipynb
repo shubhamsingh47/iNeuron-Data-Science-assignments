{
 "cells": [
  {
   "cell_type": "markdown",
   "id": "16e9dcba",
   "metadata": {},
   "source": [
    "### Q1. Does assigning a value to a string's indexed character violate Python's string immutability ?"
   ]
  },
  {
   "cell_type": "code",
   "execution_count": null,
   "id": "d060f50f",
   "metadata": {},
   "outputs": [],
   "source": [
    "String’s indexed character cannot to be assigned a New value as Strings are immutable.\n",
    "\n",
    "Example:\n",
    "    \n",
    "name = \"bot\"\n",
    "print(id(name))\n",
    "name[0] = \"V\"   # error"
   ]
  },
  {
   "cell_type": "markdown",
   "id": "c140fa22",
   "metadata": {},
   "source": [
    "### Q2. Does using the += operator to concatenate strings violate Python&#39;s string immutability? Why or why not?"
   ]
  },
  {
   "cell_type": "code",
   "execution_count": null,
   "id": "f45e09ba",
   "metadata": {},
   "outputs": [],
   "source": [
    "'+=' operator is used to concatenate strings. It does not violate Python’s string immutability Property because doing so \n",
    "creates a new association with data and variable. E.g. str_1=\"a\" and str_1+=\"b. \n",
    "Effect of this statement is to create string ab and reassign it to variable str_1. Any string data is not actually modified."
   ]
  },
  {
   "cell_type": "markdown",
   "id": "d95775b5",
   "metadata": {},
   "source": [
    "### Q3. In Python, how many different ways are there to index a character?"
   ]
  },
  {
   "cell_type": "code",
   "execution_count": null,
   "id": "9ac1a087",
   "metadata": {},
   "outputs": [],
   "source": [
    "A Character in string can be indexed using string name followed by index number of character in square bracket. \n",
    "Positive Indexing i.e. first index is 0 an so on, or Negative Indexing i.e. last letter is -1 and so on can be used to index a \n",
    "character"
   ]
  },
  {
   "cell_type": "markdown",
   "id": "c9c5faf1",
   "metadata": {},
   "source": [
    "### Q4. What is the relationship between indexing and slicing?"
   ]
  },
  {
   "cell_type": "code",
   "execution_count": null,
   "id": "3e6d857d",
   "metadata": {},
   "outputs": [],
   "source": [
    "We can access elements of sequence datatypes by using slicing and indexing. Indexing is used to obtaining individual \n",
    " element while slicing for sequence of elements.\n",
    "\n",
    "in_string = \"iNeuron Full Stack Data Science\"\n",
    "print(in_string[1],in_string[3],in_string[5]) # Indexing\n",
    "print(in_string[1:15]) # Slicing\n",
    "N u o\n",
    "Neuron Full St"
   ]
  },
  {
   "cell_type": "markdown",
   "id": "c6be62ce",
   "metadata": {},
   "source": [
    "### Q5. What is an indexed character's exact data type? What is the data form of a slicing-generated substring?"
   ]
  },
  {
   "cell_type": "code",
   "execution_count": null,
   "id": "28bd758e",
   "metadata": {},
   "outputs": [],
   "source": [
    "Indexed characters and sliced substrings have datatype String."
   ]
  },
  {
   "cell_type": "markdown",
   "id": "fa6a21aa",
   "metadata": {},
   "source": [
    "### Q6. What is the relationship between string and character \"types\" in Python?"
   ]
  },
  {
   "cell_type": "code",
   "execution_count": null,
   "id": "1bb56b3c",
   "metadata": {},
   "outputs": [],
   "source": [
    "Object that contains sequence of character datatypes are called String."
   ]
  },
  {
   "cell_type": "markdown",
   "id": "b10a0791",
   "metadata": {},
   "source": [
    "### Q7. Identify at least two operators & one method that allow you to combine one or more smaller strings to create a larger string ?"
   ]
  },
  {
   "cell_type": "code",
   "execution_count": null,
   "id": "1562cfce",
   "metadata": {},
   "outputs": [],
   "source": [
    "'+', '+=' and '*' allow to combine one or more smaller strings to create a larger string. <string>.join(<sep>) method joins \n",
    "   element of iterable type like list and tuple to get a combined string."
   ]
  },
  {
   "cell_type": "markdown",
   "id": "9da63a7a",
   "metadata": {},
   "source": [
    "### Q8. What is the benefit of first checking the target string with in or not in before using the index method to find a substring ?"
   ]
  },
  {
   "cell_type": "code",
   "execution_count": null,
   "id": "fdc70393",
   "metadata": {},
   "outputs": [],
   "source": [
    "Checking the target string with in or not Operators before using the index method to find a substring just helps confirming \n",
    "    availability of substring and thus avoid raising of ValueError."
   ]
  },
  {
   "cell_type": "markdown",
   "id": "58d3acd3",
   "metadata": {},
   "source": [
    "### Q9. Which operators and built-in string methods produce simple Boolean (true/false) results?"
   ]
  },
  {
   "cell_type": "code",
   "execution_count": null,
   "id": "dbb628a0",
   "metadata": {},
   "outputs": [],
   "source": [
    "Ans: The String Operators and built-in methods to Produce Simple Boolean (True/False) Results are:\n",
    "\n",
    "in\n",
    "not\n",
    "<string>.isalpha()\n",
    "<string>.isalnum()\n",
    "<string>.isdecimal()\n",
    "<string>.isdigit()\n",
    "<string>.islower()\n",
    "<string>.isnumeric()\n",
    "<string>.isprintable()\n",
    "<string>.isspace()\n",
    "<string>.istitle()"
   ]
  }
 ],
 "metadata": {
  "kernelspec": {
   "display_name": "Python 3 (ipykernel)",
   "language": "python",
   "name": "python3"
  },
  "language_info": {
   "codemirror_mode": {
    "name": "ipython",
    "version": 3
   },
   "file_extension": ".py",
   "mimetype": "text/x-python",
   "name": "python",
   "nbconvert_exporter": "python",
   "pygments_lexer": "ipython3",
   "version": "3.9.7"
  }
 },
 "nbformat": 4,
 "nbformat_minor": 5
}
