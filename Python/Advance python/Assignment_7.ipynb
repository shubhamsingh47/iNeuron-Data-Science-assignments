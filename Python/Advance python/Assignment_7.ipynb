{
 "cells": [
  {
   "cell_type": "markdown",
   "id": "7a4f2292",
   "metadata": {},
   "source": [
    "### Q1. What is the purpose of the try statement?"
   ]
  },
  {
   "cell_type": "code",
   "execution_count": null,
   "id": "1f78bb36",
   "metadata": {},
   "outputs": [],
   "source": [
    "try statement is used for exception handling in python. It consists of a block of risky statements which might cause an \n",
    "exception during runtime. \n",
    "        If code within try block raises exception, then the exception will be reverted to the corresponding\n",
    "except block when multiple except blocks are present, else it will be reverted to the default except block.\n",
    "        In short, try and except in union avoid programs from crashing during runtime due to exceptions."
   ]
  },
  {
   "cell_type": "markdown",
   "id": "f2cc80dd",
   "metadata": {},
   "source": [
    "### Q2. What are the two most popular try statement variations?"
   ]
  },
  {
   "cell_type": "code",
   "execution_count": null,
   "id": "fe378bf1",
   "metadata": {},
   "outputs": [],
   "source": [
    "1 - try,except\n",
    "2 - try,except,finally\n",
    "3 - try,except,finally,else\n",
    "\n",
    "    The try block is used to check code for exceptions during runtime. i.e. code inside try block will execute completely when \n",
    "there is no error in the program where as the code inside except block will execute whenever the program encounters some error\n",
    "in the preceeding try block.\n",
    "\n",
    "Where as the code enters the else block if and only if the try clause does not raise an exception. \n",
    "The code in the finally block will execute irrespective of exception."
   ]
  },
  {
   "cell_type": "markdown",
   "id": "f62fcb7a",
   "metadata": {},
   "source": [
    "### Q3. What is the purpose of the raise statement?"
   ]
  },
  {
   "cell_type": "code",
   "execution_count": null,
   "id": "8f9030ea",
   "metadata": {},
   "outputs": [],
   "source": [
    "raise statement is used to trigger an exception explicitly, if a certain condition is not as per requirement of programmer. \n",
    "raise statement helps in triggering exception as per programming logic."
   ]
  },
  {
   "cell_type": "markdown",
   "id": "aa86ae51",
   "metadata": {},
   "source": [
    "### Q4. What does the assert statement do, and what other statement is it like?"
   ]
  },
  {
   "cell_type": "code",
   "execution_count": null,
   "id": "605ae609",
   "metadata": {},
   "outputs": [],
   "source": [
    "There are few assertions that programmer always want to be true to avoid code failure. This type of requirement is fulfilled by \n",
    "assert statement. \n",
    "This statement takes a boolean condition output of which is True which in turn helps Further Program Execute , If output of \n",
    "assert statement is False, it raises an Assertion Error."
   ]
  },
  {
   "cell_type": "markdown",
   "id": "dbc0be82",
   "metadata": {},
   "source": [
    "### Q5. What is the purpose of the with/as argument, and what other statement is it like?"
   ]
  },
  {
   "cell_type": "code",
   "execution_count": null,
   "id": "42f409fa",
   "metadata": {},
   "outputs": [],
   "source": [
    "with/as statement simplifies use of file handling in python. When we use a with statement for file reading, there is no need \n",
    "for programmer to explicitly take care of activities like resource deallocation and file closing by using file.close() method. \n",
    "    \n",
    "    with statement itself ensures proper acquisition and release of resources. This avoids triggering of exceptions if the file \n",
    "closing is unknowingly forgotten in the code execution."
   ]
  }
 ],
 "metadata": {
  "kernelspec": {
   "display_name": "Python 3 (ipykernel)",
   "language": "python",
   "name": "python3"
  },
  "language_info": {
   "codemirror_mode": {
    "name": "ipython",
    "version": 3
   },
   "file_extension": ".py",
   "mimetype": "text/x-python",
   "name": "python",
   "nbconvert_exporter": "python",
   "pygments_lexer": "ipython3",
   "version": "3.9.7"
  }
 },
 "nbformat": 4,
 "nbformat_minor": 5
}
