{
 "cells": [
  {
   "cell_type": "markdown",
   "id": "9ed673fd",
   "metadata": {},
   "source": [
    "### 1. What is the concept of an abstract superclass?"
   ]
  },
  {
   "cell_type": "code",
   "execution_count": null,
   "id": "d8f1fc8f",
   "metadata": {},
   "outputs": [],
   "source": [
    "An abstract superclass can be considered as a blueprint for other classes. It allows us to create a set of methods that must be created within any child classes built from the abstract class. A class which contains one or more abstract methods is called an abstract class \n",
    "Whereas an abstract method is a method that has a declaration but does not have an implementation"
   ]
  },
  {
   "cell_type": "markdown",
   "id": "79c712ed",
   "metadata": {},
   "source": [
    "### 2. What happens when a class statement&#39;s top level contains a basic assignment statement?"
   ]
  },
  {
   "cell_type": "code",
   "execution_count": null,
   "id": "fcff793b",
   "metadata": {},
   "outputs": [],
   "source": [
    "When a Class statement's top level contains a basic assignment statement, it is usually treated as a class attribute or class level variable where as assignment statements inside methods are treated as instance attributes or local attributes.\n",
    "\n",
    "When an instance of a class is created, a single copy of class attributes is maintained and shared to all instances of class where as each instance object maintains its own copy of instance variables."
   ]
  },
  {
   "cell_type": "markdown",
   "id": "82f3d936",
   "metadata": {},
   "source": [
    "### 3. Why does a class need to manually call a superclass&#39;s __init__ method?"
   ]
  },
  {
   "cell_type": "code",
   "execution_count": null,
   "id": "bbfeca44",
   "metadata": {},
   "outputs": [],
   "source": [
    "If a child class has __init__ method, then it will not inherit the __init__ method of the parent class.\n",
    "In other words the __init__ method of the child class overrides the __init__ method of the parent class.\n",
    "So, we have to manually call a parent superclass's __init__ using super() method."
   ]
  },
  {
   "cell_type": "markdown",
   "id": "7b378452",
   "metadata": {},
   "source": [
    "### 4. How can you augment, instead of completely replacing, an inherited method?"
   ]
  },
  {
   "cell_type": "code",
   "execution_count": null,
   "id": "1c62f8c1",
   "metadata": {},
   "outputs": [],
   "source": [
    "The super() method can be used to augment, instead of completely replacing, an inherited method"
   ]
  },
  {
   "cell_type": "markdown",
   "id": "474d63f5",
   "metadata": {},
   "source": [
    "### 5. How is the local scope of a class different from that of a function?"
   ]
  },
  {
   "cell_type": "code",
   "execution_count": null,
   "id": "5adab708",
   "metadata": {},
   "outputs": [],
   "source": [
    "A Variable which is defined inside a function is local to that function. \n",
    "It is accesible from the point at which it is defined until the end of the function, and exists for as long as the function is existing.\n",
    "\n",
    "Similary a variable inside of a class also has a local variable scope. Variables which are defined in the class body (but outside all methods) are called as class level variables or class attributes. \n",
    "They can be referenced by their bare names within the same scope, but they can also be accessed from outside this scope if we use the attribute access operator (.) on a class or an instance of the class."
   ]
  }
 ],
 "metadata": {
  "kernelspec": {
   "display_name": "Python 3 (ipykernel)",
   "language": "python",
   "name": "python3"
  },
  "language_info": {
   "codemirror_mode": {
    "name": "ipython",
    "version": 3
   },
   "file_extension": ".py",
   "mimetype": "text/x-python",
   "name": "python",
   "nbconvert_exporter": "python",
   "pygments_lexer": "ipython3",
   "version": "3.9.7"
  }
 },
 "nbformat": 4,
 "nbformat_minor": 5
}
