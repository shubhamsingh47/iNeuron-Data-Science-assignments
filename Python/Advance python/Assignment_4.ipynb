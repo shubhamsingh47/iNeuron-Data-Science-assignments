{
 "cells": [
  {
   "cell_type": "markdown",
   "id": "a3e2c6cb",
   "metadata": {},
   "source": [
    "### Q1. Which two operator overloading methods can you use in your classes to support iteration?"
   ]
  },
  {
   "cell_type": "code",
   "execution_count": null,
   "id": "219cab5f",
   "metadata": {},
   "outputs": [],
   "source": [
    "'__iter__' and '__next__' are the operator overloading methods in python that support iteration and are collectively called iterator protocol.\n",
    "\n",
    "'__iter__' returns the iterator object and is called at the start of loop in our respective class.\n",
    "'__next__' is called at each loop increment, it returns the incremented value. Also Stopiteration is raised when there is no value to return."
   ]
  },
  {
   "cell_type": "markdown",
   "id": "a58edb16",
   "metadata": {},
   "source": [
    "### Q2. In what contexts do the two operator overloading methods manage printing?"
   ]
  },
  {
   "cell_type": "code",
   "execution_count": null,
   "id": "fb4487e3",
   "metadata": {},
   "outputs": [],
   "source": [
    "'__str__' and '__repr__' are two operator overloading methods that manage printing.\n",
    "\n",
    "1- The difference between both of these operators is: The goal of __repr__ is to be unambiguous and __str__ is to be readable.\n",
    "2- Whenever we are printing any object reference internally, __str__ method will be called by default.\n",
    "\n",
    "3- The main purpose of '__str__' is for readability. It prints the informal string representation of an object, one that is useful for printing the object. \n",
    "It may not be possible to convert result string to original object.\n",
    "'__repr__' is used to print official string representation of an object, so it includes all information and development.\n"
   ]
  },
  {
   "cell_type": "markdown",
   "id": "524a9ab7",
   "metadata": {},
   "source": [
    "### Q3. In a class, how do you intercept slice operations?"
   ]
  },
  {
   "cell_type": "code",
   "execution_count": null,
   "id": "03d267a9",
   "metadata": {},
   "outputs": [],
   "source": [
    "In a class use of slice(), __getitem__ method is used for intercept slice operation. \n",
    "This slice method is provided with start integer number, stop integer number and step integer number.\n",
    "\n",
    "#Example:\n",
    "__getitem__(slice(start,stop,step))"
   ]
  },
  {
   "cell_type": "markdown",
   "id": "63178372",
   "metadata": {},
   "source": [
    "### Q4. In a class, how do you capture in-place addition?"
   ]
  },
  {
   "cell_type": "code",
   "execution_count": null,
   "id": "7e09d9b3",
   "metadata": {},
   "outputs": [],
   "source": [
    "'a+b' is normal addition. Whereas 'a+=b' is inplace addition operation. \n",
    "In this in-place addition a itself will store the value of addition.\n",
    "\n",
    "In a class __iadd__ method is used for this in-place operation"
   ]
  },
  {
   "cell_type": "markdown",
   "id": "31bc2b76",
   "metadata": {},
   "source": [
    "### Q5. When is it appropriate to use operator overloading?"
   ]
  },
  {
   "cell_type": "code",
   "execution_count": null,
   "id": "af1a0b2e",
   "metadata": {},
   "outputs": [],
   "source": [
    "Operator overloading is used when we want to use an operator other than its normal operation to have different meaning according\n",
    "to the context required in user defined function."
   ]
  }
 ],
 "metadata": {
  "kernelspec": {
   "display_name": "Python 3 (ipykernel)",
   "language": "python",
   "name": "python3"
  },
  "language_info": {
   "codemirror_mode": {
    "name": "ipython",
    "version": 3
   },
   "file_extension": ".py",
   "mimetype": "text/x-python",
   "name": "python",
   "nbconvert_exporter": "python",
   "pygments_lexer": "ipython3",
   "version": "3.9.7"
  }
 },
 "nbformat": 4,
 "nbformat_minor": 5
}
