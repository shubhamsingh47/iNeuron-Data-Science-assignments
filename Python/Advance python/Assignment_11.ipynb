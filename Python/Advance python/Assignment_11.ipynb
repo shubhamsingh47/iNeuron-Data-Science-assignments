{
 "cells": [
  {
   "cell_type": "markdown",
   "id": "8a691e70",
   "metadata": {},
   "source": [
    "### Q1. What is the concept of a metaclass?"
   ]
  },
  {
   "cell_type": "code",
   "execution_count": null,
   "id": "eb730369",
   "metadata": {},
   "outputs": [],
   "source": [
    "Metaclass in Python is a class of a class that defines how a class behaves. A class is itself a instance of Metaclass, and \n",
    "any Instance of Class in Python is an Instance of type metaclass.\n",
    "\n",
    "E.g. Type of of int, str, float, list, tuple and many more is of metaclass type."
   ]
  },
  {
   "cell_type": "markdown",
   "id": "8461c0a0",
   "metadata": {},
   "source": [
    "### Q2. What is the best way to declare a class's metaclass?"
   ]
  },
  {
   "cell_type": "code",
   "execution_count": null,
   "id": "2c489dbb",
   "metadata": {},
   "outputs": [],
   "source": [
    "A way to declare a class’ metaclass is by using metaclass keyword in class definition.\n",
    "\n",
    "# For eg:\n",
    "class meta(type):\n",
    "    pass\n",
    "class class_meta(metaclass=meta):\n",
    "    pass\n",
    "print(type(meta))\n",
    "print(type(class_meta))"
   ]
  },
  {
   "cell_type": "markdown",
   "id": "9ee47f74",
   "metadata": {},
   "source": [
    "### Q3. How do class decorators overlap with metaclasses for handling classes ?"
   ]
  },
  {
   "cell_type": "code",
   "execution_count": null,
   "id": "4c809cc7",
   "metadata": {},
   "outputs": [],
   "source": [
    " Anything you can do with a class decorator, you can of course do with a custom metaclasses (just apply the functionality of \n",
    "the \"decorator function\", i.e., the one that takes a class object and modifies it, in the course of the metaclass's \n",
    "__new__ or __init__ that make the class object!)."
   ]
  },
  {
   "cell_type": "markdown",
   "id": "cdbaac0c",
   "metadata": {},
   "source": [
    "### Q4. How do class decorators overlap with metaclasses for handling instances?"
   ]
  },
  {
   "cell_type": "code",
   "execution_count": null,
   "id": "79d02adc",
   "metadata": {},
   "outputs": [],
   "source": [
    "Anything you can do with a class decorator, you can of course do with a custom metaclass (just apply the functionality of the \n",
    "\"decorator function\", i.e., the one that takes a class object and modifies it, in the course of the metaclass's \n",
    "__new__ or __init__ that make the class object!)."
   ]
  }
 ],
 "metadata": {
  "kernelspec": {
   "display_name": "Python 3 (ipykernel)",
   "language": "python",
   "name": "python3"
  },
  "language_info": {
   "codemirror_mode": {
    "name": "ipython",
    "version": 3
   },
   "file_extension": ".py",
   "mimetype": "text/x-python",
   "name": "python",
   "nbconvert_exporter": "python",
   "pygments_lexer": "ipython3",
   "version": "3.9.7"
  }
 },
 "nbformat": 4,
 "nbformat_minor": 5
}
