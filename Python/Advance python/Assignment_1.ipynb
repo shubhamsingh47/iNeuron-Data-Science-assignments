{
 "cells": [
  {
   "cell_type": "markdown",
   "id": "b0168440",
   "metadata": {},
   "source": [
    "### Q1. What is the purpose of Python's OOP?"
   ]
  },
  {
   "cell_type": "code",
   "execution_count": null,
   "id": "76a79479",
   "metadata": {},
   "outputs": [],
   "source": [
    "o   The main aim of OOP is to bind together the data and the functions \n",
    "        that operate on them so that no other part of the code can access this data except that function.\n",
    "o   It helps to divide our\n",
    "        over all program into different small segments and thus making problem solving easy through the use of objects"
   ]
  },
  {
   "cell_type": "markdown",
   "id": "b8e4eadf",
   "metadata": {},
   "source": [
    "### Q2. Where does an inheritance search look for an attribute?"
   ]
  },
  {
   "cell_type": "code",
   "execution_count": null,
   "id": "e5bda8a0",
   "metadata": {},
   "outputs": [],
   "source": [
    "The inheritance search is simply a search of the tree from bottom to top looking for the lowest occurrence of an attribute name."
   ]
  },
  {
   "cell_type": "markdown",
   "id": "56275861",
   "metadata": {},
   "source": [
    "### Q3. How do you distinguish between a class object and an instance object?"
   ]
  },
  {
   "cell_type": "code",
   "execution_count": null,
   "id": "12f0a1bb",
   "metadata": {},
   "outputs": [],
   "source": [
    "=> Instance and object are used interchangeably\n",
    "=> As Classes have no allocated memory. they can`t be manipulated. but objects can be manipulated.\n",
    "=> An object is a generic thing while an instance is a single object that has been created in memory"
   ]
  },
  {
   "cell_type": "markdown",
   "id": "83a985ba",
   "metadata": {},
   "source": [
    "### Q4. What makes the first argument in a class’s method function special?"
   ]
  },
  {
   "cell_type": "code",
   "execution_count": null,
   "id": "43b7c61e",
   "metadata": {},
   "outputs": [],
   "source": [
    "In object-oriented programming, whenever we define methods for a class, we use self as the first parameter in each case."
   ]
  },
  {
   "cell_type": "markdown",
   "id": "940da913",
   "metadata": {},
   "source": [
    "### Q5. What is the purpose of the __init__ method?"
   ]
  },
  {
   "cell_type": "code",
   "execution_count": null,
   "id": "d65680ec",
   "metadata": {},
   "outputs": [],
   "source": [
    "\"Init\" is a reseved method in python classes. \n",
    "It is called as a constructor in object oriented terms. \n",
    "Init method is called when an object is created from a class and it allows the class to initialize the attributes of the class."
   ]
  },
  {
   "cell_type": "markdown",
   "id": "859bcca3",
   "metadata": {},
   "source": [
    "### Q6. What is the process for creating a class instance?"
   ]
  },
  {
   "cell_type": "code",
   "execution_count": null,
   "id": "1e20a23e",
   "metadata": {},
   "outputs": [],
   "source": [
    "To create a class instance, we need to call the class by its name and pass the arguments to the class, which its init method\n",
    "accepts.\n",
    "\n",
    "for eg:\n",
    "class My_Class:\n",
    "  x = 5\n",
    "X_value = MyClass()\n",
    "print(X_value.x)"
   ]
  },
  {
   "cell_type": "markdown",
   "id": "ce9dfcb2",
   "metadata": {},
   "source": [
    "### Q7. What is the process for creating a class?"
   ]
  },
  {
   "cell_type": "code",
   "execution_count": null,
   "id": "891cd8f9",
   "metadata": {},
   "outputs": [],
   "source": [
    "class definitions begin with a class keyword.\n",
    "\n",
    "for eg:\n",
    "\n",
    "class Example():     # This creates a class called Example\n",
    "    pass"
   ]
  },
  {
   "cell_type": "markdown",
   "id": "5ed8469f",
   "metadata": {},
   "source": [
    "### Q8. How would you define the superclasses of a class?"
   ]
  },
  {
   "cell_type": "code",
   "execution_count": null,
   "id": "50213f74",
   "metadata": {},
   "outputs": [],
   "source": [
    "A class from which other class inherit code is called superclass\n",
    "\n",
    "class mango(fruit):\n",
    "    '''here child class mango inherits attributes and methods from parent/superclass i.e. fruit'''\n",
    "    pass"
   ]
  }
 ],
 "metadata": {
  "kernelspec": {
   "display_name": "Python 3 (ipykernel)",
   "language": "python",
   "name": "python3"
  },
  "language_info": {
   "codemirror_mode": {
    "name": "ipython",
    "version": 3
   },
   "file_extension": ".py",
   "mimetype": "text/x-python",
   "name": "python",
   "nbconvert_exporter": "python",
   "pygments_lexer": "ipython3",
   "version": "3.9.7"
  }
 },
 "nbformat": 4,
 "nbformat_minor": 5
}
