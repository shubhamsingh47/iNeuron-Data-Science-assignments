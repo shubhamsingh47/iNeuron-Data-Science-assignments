{
 "cells": [
  {
   "cell_type": "markdown",
   "id": "7836f3ad",
   "metadata": {},
   "source": [
    "# 1. check whether the number is disarium or not"
   ]
  },
  {
   "cell_type": "code",
   "execution_count": 22,
   "id": "19491d17",
   "metadata": {},
   "outputs": [
    {
     "name": "stdout",
     "output_type": "stream",
     "text": [
      "enter any number175\n",
      "175 is a disarium number\n"
     ]
    }
   ],
   "source": [
    "n=int(input('enter any number'))\n",
    "s=len(str(n))\n",
    "i=n\n",
    "sum=0\n",
    "rem=0\n",
    "while(i>0):\n",
    "    rem=i%10\n",
    "    sum=sum+int(rem**s)\n",
    "    i=i//10\n",
    "    s=s-1\n",
    "if sum==n:\n",
    "    print(n,'is a disarium number')\n",
    "else:\n",
    "    print(n,'is not a disarium number')"
   ]
  },
  {
   "cell_type": "markdown",
   "id": "40b63a69",
   "metadata": {},
   "source": [
    "# 2. Print disasrium number from 1 to 100"
   ]
  },
  {
   "cell_type": "code",
   "execution_count": 24,
   "id": "d2e7938f",
   "metadata": {},
   "outputs": [
    {
     "name": "stdout",
     "output_type": "stream",
     "text": [
      "enter the lower range:1\n",
      "enter the highest range:100\n",
      "1\n",
      "2\n",
      "3\n",
      "4\n",
      "5\n",
      "6\n",
      "7\n",
      "8\n",
      "9\n",
      "89\n"
     ]
    }
   ],
   "source": [
    "l1=int(input('enter the lower range:'))\n",
    "l2=int(input('enter the highest range:'))\n",
    "for i in range(l1,l2+1):\n",
    "    sum=0\n",
    "    s=len(str(i))\n",
    "    n=i\n",
    "    while(n>0):\n",
    "        rem=n%10\n",
    "        sum=sum+(rem**s)\n",
    "        n=n//10\n",
    "        s=s-1\n",
    "    if sum==i:\n",
    "        print(i)\n",
    "    else:\n",
    "        continue\n",
    "    \n",
    "    "
   ]
  },
  {
   "cell_type": "markdown",
   "id": "11d2e923",
   "metadata": {},
   "source": [
    "# 3. check whether the number is happy number or not"
   ]
  },
  {
   "cell_type": "code",
   "execution_count": 4,
   "id": "0599a67d",
   "metadata": {},
   "outputs": [
    {
     "name": "stdout",
     "output_type": "stream",
     "text": [
      "82\n",
      "82 is a happy number\n"
     ]
    }
   ],
   "source": [
    "n=int(input())\n",
    "rem=0\n",
    "i=n\n",
    "while(i>10):\n",
    "    sum=0\n",
    "    while(i>0):\n",
    "        rem=i%10\n",
    "        sum=sum+(rem**2)\n",
    "        i=i//10\n",
    "    i=sum\n",
    "if sum==1:\n",
    "    print(n,'is a happy number')\n",
    "else:\n",
    "    print(n,'is not a happy number')\n",
    "          "
   ]
  },
  {
   "cell_type": "markdown",
   "id": "f3ab0780",
   "metadata": {},
   "source": [
    "# 4. Print Happy number from 1 to 100"
   ]
  },
  {
   "cell_type": "code",
   "execution_count": 25,
   "id": "2fcdaa02",
   "metadata": {},
   "outputs": [
    {
     "name": "stdout",
     "output_type": "stream",
     "text": [
      "1\n",
      "100\n",
      "1\n",
      "2\n",
      "3\n",
      "4\n",
      "5\n",
      "6\n",
      "7\n",
      "8\n",
      "9\n",
      "10\n",
      "19\n",
      "28\n",
      "68\n",
      "82\n",
      "86\n",
      "91\n",
      "100\n"
     ]
    }
   ],
   "source": [
    "l1=int(input())\n",
    "l2=int(input())\n",
    "for i in range(l1,l2+1):\n",
    "    rem=0\n",
    "    n=i\n",
    "    while(n>10):\n",
    "        sum=0\n",
    "        while(n>0):\n",
    "            rem=n%10\n",
    "            sum=sum+(rem**2)\n",
    "            n=n//10\n",
    "        n=sum\n",
    "    if sum==1:\n",
    "        print(i)\n",
    "    else:\n",
    "        continue\n",
    "\n",
    "          "
   ]
  },
  {
   "cell_type": "markdown",
   "id": "5813431f",
   "metadata": {},
   "source": [
    "# 5. Check whether the number is a arshad number or not"
   ]
  },
  {
   "cell_type": "code",
   "execution_count": 17,
   "id": "91317c9a",
   "metadata": {},
   "outputs": [
    {
     "name": "stdout",
     "output_type": "stream",
     "text": [
      "102\n",
      "102 is an arshad number\n"
     ]
    }
   ],
   "source": [
    "n=int(input())\n",
    "sum=0\n",
    "rem=0\n",
    "i=n\n",
    "while(i>0):\n",
    "    rem=i%10\n",
    "    sum=sum+rem\n",
    "    i=i//10\n",
    "if n%sum==0:\n",
    "    print(n,'is an arshad number')\n",
    "else:\n",
    "    print(n,'is not an arshad number')"
   ]
  },
  {
   "cell_type": "markdown",
   "id": "bb80b0a3",
   "metadata": {},
   "source": [
    "# 6. Print Arshad Number from 1 to 100"
   ]
  },
  {
   "cell_type": "code",
   "execution_count": 26,
   "id": "5470991d",
   "metadata": {},
   "outputs": [
    {
     "name": "stdout",
     "output_type": "stream",
     "text": [
      "enter the lower range:1\n",
      "enter the highest range:100\n",
      "1\n",
      "2\n",
      "3\n",
      "4\n",
      "5\n",
      "6\n",
      "7\n",
      "8\n",
      "9\n",
      "10\n",
      "12\n",
      "18\n",
      "20\n",
      "21\n",
      "24\n",
      "27\n",
      "30\n",
      "36\n",
      "40\n",
      "42\n",
      "45\n",
      "48\n",
      "50\n",
      "54\n",
      "60\n",
      "63\n",
      "70\n",
      "72\n",
      "80\n",
      "81\n",
      "84\n",
      "90\n",
      "100\n"
     ]
    }
   ],
   "source": [
    "l1=int(input('enter the lower range:'))\n",
    "l2=int(input('enter the highest range:'))\n",
    "for i in range(l1,l2+1):\n",
    "    sum=0\n",
    "    rem=0\n",
    "    n=i\n",
    "    while(n>0):\n",
    "        rem=n%10\n",
    "        sum=sum+rem\n",
    "        n=n//10\n",
    "    if i%sum==0:\n",
    "        print(i)\n",
    "    else:\n",
    "        continue"
   ]
  },
  {
   "cell_type": "code",
   "execution_count": null,
   "id": "90ae3052",
   "metadata": {},
   "outputs": [],
   "source": []
  }
 ],
 "metadata": {
  "kernelspec": {
   "display_name": "Python 3 (ipykernel)",
   "language": "python",
   "name": "python3"
  },
  "language_info": {
   "codemirror_mode": {
    "name": "ipython",
    "version": 3
   },
   "file_extension": ".py",
   "mimetype": "text/x-python",
   "name": "python",
   "nbconvert_exporter": "python",
   "pygments_lexer": "ipython3",
   "version": "3.9.7"
  }
 },
 "nbformat": 4,
 "nbformat_minor": 5
}
