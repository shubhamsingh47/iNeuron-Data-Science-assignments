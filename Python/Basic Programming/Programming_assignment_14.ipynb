{
 "cells": [
  {
   "cell_type": "markdown",
   "id": "758896c1",
   "metadata": {},
   "source": [
    "### 1: Define a class with a generator which can iterate the numbers, which are divisible by 7, between a given range 0 and n"
   ]
  },
  {
   "cell_type": "code",
   "execution_count": 7,
   "id": "961f2bd3",
   "metadata": {},
   "outputs": [
    {
     "name": "stdout",
     "output_type": "stream",
     "text": [
      "enter no: 109\n",
      "0 7 14 21 28 35 42 49 56 63 70 77 84 91 98 105 "
     ]
    }
   ],
   "source": [
    "class generator:\n",
    "    def __init__(self,num):\n",
    "        self.num = num\n",
    "    def get_multiple(self):\n",
    "        for i in range(0,self.num+1):\n",
    "            if i%7 == 0:\n",
    "                yield i\n",
    "                \n",
    "n=int(input(\"enter no: \"))                \n",
    "output = generator(n)\n",
    "\n",
    "for i in output.get_multiple():\n",
    "    print(i,end=' ')"
   ]
  },
  {
   "cell_type": "markdown",
   "id": "dd765991",
   "metadata": {},
   "source": [
    "# Question 2:\n",
    "Write a program to compute the frequency of the words from the input. The output\n",
    "should output after sorting the key alphanumerically.\n",
    "Suppose the following input is supplied to the program:\n",
    "New to Python or choosing between Python 2 and Python 3? Read Python 2 or\n",
    "Python 3.\n",
    "Then, the output should be:\n",
    "2:2\n",
    "3.:1\n",
    "3?:1\n",
    "New:1\n",
    "Python:5\n",
    "Read:1\n",
    "and:1\n",
    "between:1\n",
    "choosing:1\n",
    "or:2\n",
    "to:1"
   ]
  },
  {
   "cell_type": "code",
   "execution_count": 18,
   "id": "8a16feed",
   "metadata": {},
   "outputs": [
    {
     "name": "stdout",
     "output_type": "stream",
     "text": [
      "New to Python or choosing between Python 2 or Python 3?Read Python 2 or Python 3\n",
      "2 2\n",
      "3 1\n",
      "New 1\n",
      "Python 5\n",
      "between 1\n",
      "choosing 1\n",
      "or 3\n",
      "to 1\n"
     ]
    }
   ],
   "source": [
    "a=input()\n",
    "f={}\n",
    "for i in a.split(' '):\n",
    "    if i.isalpha():\n",
    "        if i not in f:\n",
    "            f[i]=1\n",
    "        elif i in f:\n",
    "            f[i]=f[i]+1\n",
    "    elif i.isnumeric():\n",
    "        if i not in f:\n",
    "            f[i]=1\n",
    "        elif i in f:\n",
    "            f[i]=f[i]+1\n",
    "    else:\n",
    "        pass\n",
    "s=sorted(f.items())\n",
    "for i in s:\n",
    "    print(i[0],i[1])\n",
    "    "
   ]
  },
  {
   "cell_type": "markdown",
   "id": "43c98a1f",
   "metadata": {},
   "source": [
    "### 3.Define a class Person and its two child classes: Male and Female. All classes have a method 'getGender' which can print 'Male' for Male class and 'Female' for Female class."
   ]
  },
  {
   "cell_type": "code",
   "execution_count": 20,
   "id": "c5b6acd2",
   "metadata": {},
   "outputs": [
    {
     "name": "stdout",
     "output_type": "stream",
     "text": [
      "Male\n",
      "Female\n"
     ]
    }
   ],
   "source": [
    "#Q.3\n",
    "class Person():\n",
    "    def getgender(self):\n",
    "        return \"gender\"\n",
    "class Male():\n",
    "    def getgender(self):\n",
    "        return \"Male\"\n",
    "class Female():\n",
    "    def getgender(self):\n",
    "        return \"Female\"\n",
    "Male_=Male()\n",
    "Female_=Female()\n",
    "print (Male_.getgender())\n",
    "print (Female_.getgender())"
   ]
  },
  {
   "cell_type": "markdown",
   "id": "a8cd2a93",
   "metadata": {},
   "source": [
    "### 4:Please write a program to generate all sentences where subject is in ['I', 'You'] and verb is in ['Play', 'Love'] and the object is in ['Hockey','Football']."
   ]
  },
  {
   "cell_type": "code",
   "execution_count": 4,
   "id": "2f49f285",
   "metadata": {},
   "outputs": [
    {
     "name": "stdout",
     "output_type": "stream",
     "text": [
      "I Play Hockey\n",
      "I Play Football\n",
      "I Love Hockey\n",
      "I Love Football\n",
      "You Play Hockey\n",
      "You Play Football\n",
      "You Love Hockey\n",
      "You Love Football\n"
     ]
    }
   ],
   "source": [
    "subject = ['I','You']\n",
    "verb = ['Play','Love']\n",
    "object = ['Hockey','Football']\n",
    "for i in subject:\n",
    "    for j in verb:\n",
    "        for k in object:\n",
    "            print(i,j,k)"
   ]
  },
  {
   "cell_type": "markdown",
   "id": "840dc666",
   "metadata": {},
   "source": [
    "### 5. Please write a program to compress and decompress the string 'hello world! hello world! hello world! hello world!'."
   ]
  },
  {
   "cell_type": "code",
   "execution_count": 7,
   "id": "3a0cd836",
   "metadata": {},
   "outputs": [
    {
     "name": "stdout",
     "output_type": "stream",
     "text": [
      "hel2o world!hel2o world!hel2o world!hel2o world!\n",
      "hello world!hello world!hello world!hello world!\n"
     ]
    }
   ],
   "source": [
    "def compress(s):\n",
    "    output = s[0]\n",
    "    count = 1\n",
    "    for i in range(len(s)-1):\n",
    "        if s[i] == s[i+1]:\n",
    "            count +=1\n",
    "        else:\n",
    "            if count > 1:\n",
    "                output += str(count)\n",
    "            output += s[i+1]\n",
    "            count = 1\n",
    "    if count > 1:\n",
    "        output += str(count)            \n",
    "    print(output)\n",
    "\n",
    "\n",
    "def decompress(s):\n",
    "    output = ''\n",
    "    for i in range(len(s)):\n",
    "        if s[i].isdigit():\n",
    "            output += output[-1]*(int(s[i])-1)\n",
    "        else:\n",
    "            output += s[i]\n",
    "    print(output)\n",
    "    \n",
    "        \n",
    "compress(\"hello world!hello world!hello world!hello world!\")\n",
    "decompress(\"hel2o world!hel2o world!hel2o world!hel2o world!\")"
   ]
  },
  {
   "cell_type": "markdown",
   "id": "7d055c56",
   "metadata": {},
   "source": [
    "### 6.Please write a binary search function which searches an item in a sorted list. The function should return the index of element to be searched in the list."
   ]
  },
  {
   "cell_type": "code",
   "execution_count": 2,
   "id": "e0c10129",
   "metadata": {},
   "outputs": [
    {
     "name": "stdout",
     "output_type": "stream",
     "text": [
      "1\n",
      "Input Element is not in this list\n"
     ]
    }
   ],
   "source": [
    "sorted_list = [1,2,3,4,5,6,7,8,9,10]\n",
    "def binarysearch(l,n):\n",
    "    lower = 0\n",
    "    upper = len(l)-1\n",
    "    while lower <= upper:\n",
    "        middle = lower+upper//2\n",
    "        if l[middle] < n:\n",
    "            lower = middle + 1\n",
    "        elif l[middle] > n:\n",
    "            upper = middle - 1\n",
    "        else:\n",
    "            return middle\n",
    "    else:\n",
    "        return 'Input Element is not in this list'\n",
    "    \n",
    "\n",
    "print(binarysearch(sorted_list,2))\n",
    "print(binarysearch(sorted_list,30))"
   ]
  },
  {
   "cell_type": "code",
   "execution_count": null,
   "id": "163be919",
   "metadata": {},
   "outputs": [],
   "source": []
  }
 ],
 "metadata": {
  "kernelspec": {
   "display_name": "Python 3 (ipykernel)",
   "language": "python",
   "name": "python3"
  },
  "language_info": {
   "codemirror_mode": {
    "name": "ipython",
    "version": 3
   },
   "file_extension": ".py",
   "mimetype": "text/x-python",
   "name": "python",
   "nbconvert_exporter": "python",
   "pygments_lexer": "ipython3",
   "version": "3.9.7"
  }
 },
 "nbformat": 4,
 "nbformat_minor": 5
}
