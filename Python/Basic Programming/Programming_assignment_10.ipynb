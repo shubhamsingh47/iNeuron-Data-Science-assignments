{
 "cells": [
  {
   "cell_type": "markdown",
   "id": "767b7965",
   "metadata": {},
   "source": [
    "# 1. Write a Python program to find sum of elements in list?"
   ]
  },
  {
   "cell_type": "code",
   "execution_count": 1,
   "id": "f1f4730b",
   "metadata": {},
   "outputs": [
    {
     "data": {
      "text/plain": [
       "[1, 2, 3, 4, 5, 6, 9]"
      ]
     },
     "execution_count": 1,
     "metadata": {},
     "output_type": "execute_result"
    }
   ],
   "source": [
    "l=[1,2,3,4,5,6,9]               ### TAKING THIS LIST AS THE LIST REQUIRED IN ALL THE QUESTIONS \n",
    "l  "
   ]
  },
  {
   "cell_type": "code",
   "execution_count": 2,
   "id": "fd63a039",
   "metadata": {},
   "outputs": [
    {
     "data": {
      "text/plain": [
       "30"
      ]
     },
     "execution_count": 2,
     "metadata": {},
     "output_type": "execute_result"
    }
   ],
   "source": [
    "def SumList(l):\n",
    "    sum = 0\n",
    "    for i in range(len(l)):\n",
    "        sum = sum + l[i]\n",
    "    return sum\n",
    "\n",
    "SumList(l)"
   ]
  },
  {
   "cell_type": "markdown",
   "id": "73d63e7b",
   "metadata": {},
   "source": [
    "# 2. Write a Python program to Multiply all numbers in the list?"
   ]
  },
  {
   "cell_type": "code",
   "execution_count": 3,
   "id": "28003ab0",
   "metadata": {},
   "outputs": [
    {
     "data": {
      "text/plain": [
       "6480"
      ]
     },
     "execution_count": 3,
     "metadata": {},
     "output_type": "execute_result"
    }
   ],
   "source": [
    "def MulList(l):\n",
    "    mul = 1\n",
    "    for i in range(len(l)):\n",
    "        mul = mul * l[i]\n",
    "    return mul\n",
    "\n",
    "MulList(l)"
   ]
  },
  {
   "cell_type": "markdown",
   "id": "1e24e81d",
   "metadata": {},
   "source": [
    "# 3. Write a Python program to find smallest number in a list?"
   ]
  },
  {
   "cell_type": "code",
   "execution_count": 4,
   "id": "15b335a0",
   "metadata": {},
   "outputs": [
    {
     "data": {
      "text/plain": [
       "('The smallest number in this list:', 1)"
      ]
     },
     "execution_count": 4,
     "metadata": {},
     "output_type": "execute_result"
    }
   ],
   "source": [
    "def Smallest_num(l):\n",
    "    return(\"The smallest number in this list:\",min(l))\n",
    "\n",
    "Smallest_num(l)"
   ]
  },
  {
   "cell_type": "markdown",
   "id": "ff207e71",
   "metadata": {},
   "source": [
    "# 4. Write a Python program to find largest number in a list?"
   ]
  },
  {
   "cell_type": "code",
   "execution_count": 5,
   "id": "6c1ec73c",
   "metadata": {},
   "outputs": [
    {
     "data": {
      "text/plain": [
       "('The largest number in this list:', 9)"
      ]
     },
     "execution_count": 5,
     "metadata": {},
     "output_type": "execute_result"
    }
   ],
   "source": [
    "def Largest_num(l):\n",
    "    return(\"The largest number in this list:\",max(l))\n",
    "\n",
    "Largest_num(l)"
   ]
  },
  {
   "cell_type": "markdown",
   "id": "783f8d05",
   "metadata": {},
   "source": [
    "# 5. Write a Python program to find second largest number in a list?"
   ]
  },
  {
   "cell_type": "code",
   "execution_count": 6,
   "id": "2960bc99",
   "metadata": {},
   "outputs": [
    {
     "data": {
      "text/plain": [
       "6"
      ]
     },
     "execution_count": 6,
     "metadata": {},
     "output_type": "execute_result"
    }
   ],
   "source": [
    "def Second_largest_num(l):\n",
    "    l2=list(set(l))\n",
    "    sorted_list = sorted(l2)\n",
    "    return sorted_list[-2]\n",
    "\n",
    "Second_largest_num(l)"
   ]
  },
  {
   "cell_type": "markdown",
   "id": "7fd4e115",
   "metadata": {},
   "source": [
    "# 6. Write a Python program to find N largest elements from a list?"
   ]
  },
  {
   "cell_type": "code",
   "execution_count": 7,
   "id": "b4fc5af1",
   "metadata": {},
   "outputs": [
    {
     "name": "stdout",
     "output_type": "stream",
     "text": [
      "The 4 th largest number in this list: [3, 2, 9, 7, 4, 4, 8, 6] is:  6\n"
     ]
    }
   ],
   "source": [
    "def Nth_Largest_num(n):\n",
    "    l=[3,2,9,7,4,4,8,6]          ## taking l as the list required in this question\n",
    "    l1=list(set(l))\n",
    "    l1.sort(reverse=True)\n",
    "    print(\"The\",n,'th',\"largest number in this list:\",l,'is: ',l1[n-1])\n",
    "    \n",
    "Nth_Largest_num(4)"
   ]
  },
  {
   "cell_type": "markdown",
   "id": "73d1eb65",
   "metadata": {},
   "source": [
    "# 7. Write a Python program to print even numbers in a list?"
   ]
  },
  {
   "cell_type": "code",
   "execution_count": 8,
   "id": "1472c354",
   "metadata": {},
   "outputs": [
    {
     "data": {
      "text/plain": [
       "[2, 4, 6]"
      ]
     },
     "execution_count": 8,
     "metadata": {},
     "output_type": "execute_result"
    }
   ],
   "source": [
    "def Even_num(l):\n",
    "    return [i for i in l if i%2==0]\n",
    "\n",
    "Even_num(l)"
   ]
  },
  {
   "cell_type": "markdown",
   "id": "8abebad7",
   "metadata": {},
   "source": [
    "# 8. Write a Python program to print odd numbers in a List?"
   ]
  },
  {
   "cell_type": "code",
   "execution_count": 9,
   "id": "ccda7586",
   "metadata": {},
   "outputs": [
    {
     "data": {
      "text/plain": [
       "[1, 3, 5, 9]"
      ]
     },
     "execution_count": 9,
     "metadata": {},
     "output_type": "execute_result"
    }
   ],
   "source": [
    "def Odd_num(l):\n",
    "    return [i for i in l if i%2==1]\n",
    "\n",
    "Odd_num(l)"
   ]
  },
  {
   "cell_type": "markdown",
   "id": "07d0e23d",
   "metadata": {},
   "source": [
    "# 9. Write a Python program to Remove empty List from List?"
   ]
  },
  {
   "cell_type": "code",
   "execution_count": 10,
   "id": "9979857a",
   "metadata": {},
   "outputs": [
    {
     "name": "stdout",
     "output_type": "stream",
     "text": [
      "[3, 45, 'apple', 110, 289, [29, 73, 54, 'grapes']]\n"
     ]
    }
   ],
   "source": [
    "def RemoveList():\n",
    "    lst=[3,45,'apple',[],110,289,[29,73,54,'grapes']]         ## taking 'lst' as list for this question\n",
    "    for i in lst:\n",
    "        if type(i)==list:\n",
    "            if len(i)==0:\n",
    "                lst.remove(i)\n",
    "                print(lst)\n",
    "RemoveList()"
   ]
  },
  {
   "cell_type": "markdown",
   "id": "011c1edc",
   "metadata": {},
   "source": [
    "# 10. Write a Python program to Cloning or Copying a list?"
   ]
  },
  {
   "cell_type": "code",
   "execution_count": 24,
   "id": "fc7e1249",
   "metadata": {},
   "outputs": [
    {
     "name": "stdout",
     "output_type": "stream",
     "text": [
      "[1, 2, 3, 4, 5, 6, 9] 2356572754112\n",
      "[1, 2, 3, 4, 5, 6, 9] 2356571897664\n"
     ]
    }
   ],
   "source": [
    "import copy\n",
    "\n",
    "def Cloned_list():\n",
    "    l=[1,2,3,4,5,6,9] \n",
    "    print(l,id(l))\n",
    "    l1=l.copy()\n",
    "    print(l1,id(l1))\n",
    "    \n",
    "Cloned_list()"
   ]
  },
  {
   "cell_type": "markdown",
   "id": "0a6b8145",
   "metadata": {},
   "source": [
    "# 11. Write a Python program to Count occurrences of an element in a list?"
   ]
  },
  {
   "cell_type": "code",
   "execution_count": 1,
   "id": "4b307023",
   "metadata": {},
   "outputs": [
    {
     "data": {
      "text/plain": [
       "5"
      ]
     },
     "execution_count": 1,
     "metadata": {},
     "output_type": "execute_result"
    }
   ],
   "source": [
    "def Count_Occurence(a):\n",
    "    l3=[1,1,2,9,4,9,6,1,9,1,9,1]\n",
    "    return l3.count(a)\n",
    "    \n",
    "Count_Occurence(1)"
   ]
  },
  {
   "cell_type": "code",
   "execution_count": null,
   "id": "ef6c856c",
   "metadata": {},
   "outputs": [],
   "source": []
  }
 ],
 "metadata": {
  "kernelspec": {
   "display_name": "Python 3 (ipykernel)",
   "language": "python",
   "name": "python3"
  },
  "language_info": {
   "codemirror_mode": {
    "name": "ipython",
    "version": 3
   },
   "file_extension": ".py",
   "mimetype": "text/x-python",
   "name": "python",
   "nbconvert_exporter": "python",
   "pygments_lexer": "ipython3",
   "version": "3.7.13"
  }
 },
 "nbformat": 4,
 "nbformat_minor": 5
}
