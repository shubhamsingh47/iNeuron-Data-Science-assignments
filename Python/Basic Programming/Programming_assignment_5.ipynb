{
 "cells": [
  {
   "cell_type": "markdown",
   "id": "803628a3",
   "metadata": {},
   "source": [
    "# 1. Write a Python Program to Find LCM?"
   ]
  },
  {
   "cell_type": "code",
   "execution_count": 1,
   "id": "63380b13",
   "metadata": {},
   "outputs": [
    {
     "name": "stdout",
     "output_type": "stream",
     "text": [
      "enter 1 no: 32\n",
      "enter 2 no: 12\n",
      " \n",
      "The LCM of 32 and 12 == 96\n"
     ]
    }
   ],
   "source": [
    "#1\n",
    "n1=int(input(\"enter 1 no: \"))\n",
    "n2=int(input(\"enter 2 no: \"))\n",
    "if n1>n2:\n",
    "    maxi=n1\n",
    "else:\n",
    "    maxi=n2\n",
    "while(True):\n",
    "    if(maxi%n1==0 and maxi%n2==0):\n",
    "        print(' ')\n",
    "        print('The LCM of',n1,'and',n2,'==',maxi)\n",
    "        break\n",
    "    maxi=maxi+1"
   ]
  },
  {
   "cell_type": "markdown",
   "id": "ae02bca6",
   "metadata": {},
   "source": [
    "# 2. Write a Python Program to Find HCF?"
   ]
  },
  {
   "cell_type": "code",
   "execution_count": 2,
   "id": "5ea83b41",
   "metadata": {},
   "outputs": [
    {
     "name": "stdout",
     "output_type": "stream",
     "text": [
      "enter 1 no: 28\n",
      "enter 2 no: 16\n",
      " \n",
      "The HCF of 28 and 16 == 4\n"
     ]
    }
   ],
   "source": [
    "#2\n",
    "n1=int(input(\"enter 1 no: \"))\n",
    "n2=int(input(\"enter 2 no: \"))\n",
    "if n1>n2:\n",
    "    mini=n2\n",
    "else:\n",
    "    mini=n1\n",
    "for i in range(1,mini+1):\n",
    "    if n1%i==0 and n2%i==0:\n",
    "        hcf = i\n",
    "print(' ')\n",
    "print('The HCF of',n1,'and',n2,'==',hcf)"
   ]
  },
  {
   "cell_type": "markdown",
   "id": "2dc5fe64",
   "metadata": {},
   "source": [
    "# 3. Write a Python Program to Convert Decimal to Binary, Octal and Hexadecimal?"
   ]
  },
  {
   "cell_type": "code",
   "execution_count": 3,
   "id": "3a3c151c",
   "metadata": {},
   "outputs": [
    {
     "name": "stdout",
     "output_type": "stream",
     "text": [
      "Enter a Number: 8\n",
      " \n",
      "Binary Number == 0b1000\n",
      "Octal Number == 0o10\n",
      "Hexadecimal Number == 0x8\n"
     ]
    }
   ],
   "source": [
    "#3\n",
    "def Decimal_convert():\n",
    "    num = int(input('Enter a Number: '))\n",
    "    print(' ')\n",
    "    print('Binary Number ==',bin(num))\n",
    "    print('Octal Number ==',oct(num))    \n",
    "    print('Hexadecimal Number ==',hex(num))    \n",
    "\n",
    "Decimal_convert()"
   ]
  },
  {
   "cell_type": "markdown",
   "id": "ba0924ee",
   "metadata": {},
   "source": [
    "# 4. Write a Python Program To Find ASCII value of a character?"
   ]
  },
  {
   "cell_type": "code",
   "execution_count": 4,
   "id": "2550247c",
   "metadata": {},
   "outputs": [
    {
     "name": "stdout",
     "output_type": "stream",
     "text": [
      "enter a characterA\n",
      "The ASCII value of A is 65\n"
     ]
    }
   ],
   "source": [
    "#4\n",
    "char=(input(\"enter a character\"))\n",
    "print(\"The ASCII value of\",char,\"is\",ord(char))"
   ]
  },
  {
   "cell_type": "markdown",
   "id": "064244aa",
   "metadata": {},
   "source": [
    "# 5. Write a Python Program to Make a Simple Calculator with 4 basic mathematical operations?"
   ]
  },
  {
   "cell_type": "code",
   "execution_count": 5,
   "id": "4a06ab40",
   "metadata": {},
   "outputs": [
    {
     "name": "stdout",
     "output_type": "stream",
     "text": [
      "enter num one : 56\n",
      "enter operator: +\n",
      "enter num two : 34\n",
      "56 + 34 = 90\n"
     ]
    }
   ],
   "source": [
    "#5\n",
    "\n",
    "n = int(input(\"enter num one : \"))\n",
    "operator = input(\"enter operator: \")\n",
    "x = int(input(\"enter num two : \"))\n",
    "sum=0\n",
    "minus=0\n",
    "mul=1\n",
    "div=1\n",
    "\n",
    "if operator == '+':\n",
    "    sum = n + x\n",
    "    print(n , '+' , x ,'=', sum)\n",
    "elif operator == '-':\n",
    "    minus = n-x\n",
    "    print(n, '-', x , '=' , minus)\n",
    "elif operator == '*':\n",
    "    mul = n*x\n",
    "    print(n, '*', x , '=' , mul)\n",
    "elif operator == '/':\n",
    "    try:\n",
    "        div = n/x\n",
    "        print(n, '/', x , '=' , div)\n",
    "    except Exception as e:\n",
    "        print(\"there is an error of\", e )\n",
    "else:\n",
    "    print(\"Invalid input enter again \")"
   ]
  },
  {
   "cell_type": "code",
   "execution_count": null,
   "id": "80a0be40",
   "metadata": {},
   "outputs": [],
   "source": []
  }
 ],
 "metadata": {
  "kernelspec": {
   "display_name": "Python 3 (ipykernel)",
   "language": "python",
   "name": "python3"
  },
  "language_info": {
   "codemirror_mode": {
    "name": "ipython",
    "version": 3
   },
   "file_extension": ".py",
   "mimetype": "text/x-python",
   "name": "python",
   "nbconvert_exporter": "python",
   "pygments_lexer": "ipython3",
   "version": "3.9.7"
  }
 },
 "nbformat": 4,
 "nbformat_minor": 5
}
