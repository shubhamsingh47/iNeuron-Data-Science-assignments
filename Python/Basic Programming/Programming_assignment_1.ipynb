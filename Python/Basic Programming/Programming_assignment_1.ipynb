{
 "cells": [
  {
   "cell_type": "markdown",
   "id": "8cd4c6de",
   "metadata": {},
   "source": [
    "# 1. Write a Python program to print \"Hello Python\"."
   ]
  },
  {
   "cell_type": "code",
   "execution_count": 1,
   "id": "c91a5900",
   "metadata": {},
   "outputs": [
    {
     "name": "stdout",
     "output_type": "stream",
     "text": [
      "Hello Python\n"
     ]
    }
   ],
   "source": [
    "print(\"Hello Python\")"
   ]
  },
  {
   "cell_type": "markdown",
   "id": "afc3c4dd",
   "metadata": {},
   "source": [
    "# 2. Write a Python program to do arithmetical operations addition and division.?"
   ]
  },
  {
   "cell_type": "code",
   "execution_count": 6,
   "id": "b9012fe3",
   "metadata": {},
   "outputs": [
    {
     "name": "stdout",
     "output_type": "stream",
     "text": [
      "enter first value: 24\n",
      "enter second value: 12\n",
      "36.0\n",
      "2.0\n"
     ]
    }
   ],
   "source": [
    "a=float(input(\"enter first value: \"))\n",
    "b=float(input(\"enter second value: \"))\n",
    "print(a+b)\n",
    "print(a/b)"
   ]
  },
  {
   "cell_type": "markdown",
   "id": "0a1b1419",
   "metadata": {},
   "source": [
    "# 3. Write a Python program to find the area of a triangle?"
   ]
  },
  {
   "cell_type": "code",
   "execution_count": 7,
   "id": "286046f4",
   "metadata": {},
   "outputs": [
    {
     "name": "stdout",
     "output_type": "stream",
     "text": [
      "enter first value: 12\n",
      "enter first value: 6\n",
      "area of triangle is  36.0\n"
     ]
    }
   ],
   "source": [
    "b=float(input(\"enter first value: \"))\n",
    "h=float(input(\"enter first value: \"))\n",
    "area=1/2*b*h\n",
    "print(\"area of triangle is \",area)"
   ]
  },
  {
   "cell_type": "markdown",
   "id": "ff9f0f3b",
   "metadata": {},
   "source": [
    "# 4. Write a Python program to swap two variables?"
   ]
  },
  {
   "cell_type": "code",
   "execution_count": 11,
   "id": "b98a55ae",
   "metadata": {},
   "outputs": [
    {
     "name": "stdout",
     "output_type": "stream",
     "text": [
      "enter first value: 12\n",
      "enter second value: 90\n",
      "before swap a = 12.0\n",
      "before swap b = 90.0\n",
      "after swap a = 90.0\n",
      "after swap b = 12.0\n"
     ]
    }
   ],
   "source": [
    "a=float(input(\"enter first value: \"))\n",
    "b=float(input(\"enter second value: \"))\n",
    "print('before swap a =',a)\n",
    "print('before swap b =',b)\n",
    "temp=a\n",
    "a=b\n",
    "b=temp\n",
    "print('after swap a =',a)\n",
    "print('after swap b =',b)"
   ]
  },
  {
   "cell_type": "markdown",
   "id": "4fffd791",
   "metadata": {},
   "source": [
    "# 5. Write a Python program to generate a random number?"
   ]
  },
  {
   "cell_type": "code",
   "execution_count": 15,
   "id": "e181cd2b",
   "metadata": {},
   "outputs": [
    {
     "name": "stdout",
     "output_type": "stream",
     "text": [
      "enter lower limit: 1\n",
      "enter higher limit: 100\n",
      "The random number between 1 and 100 = 99\n"
     ]
    }
   ],
   "source": [
    "import random\n",
    "a=int(input(\"enter lower limit: \"))\n",
    "b=int(input(\"enter higher limit: \"))\n",
    "number=random.randint(a,b)\n",
    "print(\"The random number between\",a,\"and\",b,\"=\",number)"
   ]
  },
  {
   "cell_type": "code",
   "execution_count": null,
   "id": "73491db8",
   "metadata": {},
   "outputs": [],
   "source": []
  }
 ],
 "metadata": {
  "kernelspec": {
   "display_name": "Python 3 (ipykernel)",
   "language": "python",
   "name": "python3"
  },
  "language_info": {
   "codemirror_mode": {
    "name": "ipython",
    "version": 3
   },
   "file_extension": ".py",
   "mimetype": "text/x-python",
   "name": "python",
   "nbconvert_exporter": "python",
   "pygments_lexer": "ipython3",
   "version": "3.9.7"
  }
 },
 "nbformat": 4,
 "nbformat_minor": 5
}
