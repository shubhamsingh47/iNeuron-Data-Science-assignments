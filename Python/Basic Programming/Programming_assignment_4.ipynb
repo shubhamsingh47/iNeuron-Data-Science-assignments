{
 "cells": [
  {
   "cell_type": "markdown",
   "id": "2630e897",
   "metadata": {},
   "source": [
    "# 1. Write a Python Program to Find the Factorial of a Number?"
   ]
  },
  {
   "cell_type": "code",
   "execution_count": 8,
   "id": "62a66c0d",
   "metadata": {},
   "outputs": [
    {
     "name": "stdout",
     "output_type": "stream",
     "text": [
      "enter a no: 10\n",
      "3628800\n"
     ]
    }
   ],
   "source": [
    "#1\n",
    "n=int(input(\"enter a no: \"))\n",
    "f=1\n",
    "for i in range(1,n+1):\n",
    "    f=f*i\n",
    "print(f)"
   ]
  },
  {
   "cell_type": "markdown",
   "id": "c9476d4a",
   "metadata": {},
   "source": [
    "# 2. Write a Python Program to Display the multiplication Table?"
   ]
  },
  {
   "cell_type": "code",
   "execution_count": 12,
   "id": "842ce464",
   "metadata": {},
   "outputs": [
    {
     "name": "stdout",
     "output_type": "stream",
     "text": [
      "enter a no-17\n",
      "enter no of entries for table-3\n",
      "17 X 1 = 17\n",
      "17 X 2 = 34\n",
      "17 X 3 = 51\n"
     ]
    }
   ],
   "source": [
    "#2\n",
    "n = int(input(\"enter a no-\"))\n",
    "till=int(input(\"enter no of entries for table-\"))\n",
    "for i in range(1,till+1):\n",
    "    print(n , 'X' , i ,'=', n*i)"
   ]
  },
  {
   "cell_type": "markdown",
   "id": "6a32e925",
   "metadata": {},
   "source": [
    "# 3. Write a Python Program to Print the Fibonacci sequence?"
   ]
  },
  {
   "cell_type": "code",
   "execution_count": 9,
   "id": "02feee0d",
   "metadata": {},
   "outputs": [
    {
     "data": {
      "text/plain": [
       "[0, 1, 1, 2, 3, 5, 8, 13, 21, 34]"
      ]
     },
     "execution_count": 9,
     "metadata": {},
     "output_type": "execute_result"
    }
   ],
   "source": [
    "def genfib(n):\n",
    "    a=0\n",
    "    b=1\n",
    "    for i in range(n):\n",
    "        yield a\n",
    "        a,b = b , a+b\n",
    "        \n",
    "list(genfib(10))"
   ]
  },
  {
   "cell_type": "markdown",
   "id": "81b362f9",
   "metadata": {},
   "source": [
    "# 4. Write a Python Program to Check Armstrong Number?"
   ]
  },
  {
   "cell_type": "code",
   "execution_count": 5,
   "id": "1ebcf016",
   "metadata": {},
   "outputs": [
    {
     "name": "stdout",
     "output_type": "stream",
     "text": [
      "Enter a number: 8208\n",
      "8208 is a Armstrong Number\n"
     ]
    }
   ],
   "source": [
    "#4\n",
    "n = input('Enter a number: ')\n",
    "sum = 0\n",
    "for i in range(len(n)):\n",
    "    sum = sum + pow(int(n[i]),len(n))\n",
    "if sum == int(n):\n",
    "    print(n , 'is a Armstrong Number')\n",
    "else:\n",
    "    print(n, 'is a Not Armstrong Number')\n"
   ]
  },
  {
   "cell_type": "markdown",
   "id": "dd5390ac",
   "metadata": {},
   "source": [
    "# 5. Write a Python Program to Find Armstrong Number in an Interval?"
   ]
  },
  {
   "cell_type": "code",
   "execution_count": 10,
   "id": "b4b08858",
   "metadata": {},
   "outputs": [
    {
     "name": "stdout",
     "output_type": "stream",
     "text": [
      "enter lower limit: 100\n",
      "enter upper limit: 10000\n",
      "153\n",
      "370\n",
      "371\n",
      "407\n",
      "1634\n",
      "8208\n",
      "9474\n"
     ]
    }
   ],
   "source": [
    "lower=int(input(\"enter lower limit: \"))\n",
    "upper=int(input(\"enter upper limit: \"))\n",
    "for i in range(lower,upper+1):\n",
    "    order = len(str(i))\n",
    "    sum=0\n",
    "    temp = i\n",
    "    while temp > 0:\n",
    "        digit =  temp % 10\n",
    "        sum+=digit ** order \n",
    "        temp // = 10\n",
    "    if i == sum:\n",
    "        print(i)"
   ]
  },
  {
   "cell_type": "markdown",
   "id": "05ad4ff1",
   "metadata": {},
   "source": [
    "# 6. Write a Python Program to Find the Sum of Natural Numbers?"
   ]
  },
  {
   "cell_type": "code",
   "execution_count": 64,
   "id": "903782ac",
   "metadata": {},
   "outputs": [
    {
     "name": "stdout",
     "output_type": "stream",
     "text": [
      "enter a no: 43\n",
      "946\n"
     ]
    }
   ],
   "source": [
    "#6\n",
    "n=int(input(\"enter a no: \"))\n",
    "for i in range(0,n):\n",
    "    n=n+i\n",
    "print(n)"
   ]
  },
  {
   "cell_type": "code",
   "execution_count": null,
   "id": "13cce6e2",
   "metadata": {},
   "outputs": [],
   "source": []
  }
 ],
 "metadata": {
  "kernelspec": {
   "display_name": "Python 3 (ipykernel)",
   "language": "python",
   "name": "python3"
  },
  "language_info": {
   "codemirror_mode": {
    "name": "ipython",
    "version": 3
   },
   "file_extension": ".py",
   "mimetype": "text/x-python",
   "name": "python",
   "nbconvert_exporter": "python",
   "pygments_lexer": "ipython3",
   "version": "3.9.7"
  }
 },
 "nbformat": 4,
 "nbformat_minor": 5
}
