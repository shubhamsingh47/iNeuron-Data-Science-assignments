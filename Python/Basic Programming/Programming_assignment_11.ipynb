{
 "cells": [
  {
   "cell_type": "markdown",
   "id": "3397d9db",
   "metadata": {},
   "source": [
    "# 1. Write a Python program to find words which are greater than given length k?"
   ]
  },
  {
   "cell_type": "code",
   "execution_count": null,
   "id": "5712f5e0",
   "metadata": {},
   "outputs": [],
   "source": [
    "def greater_words(s,k):\n",
    "    l=[]\n",
    "    words=s.split()\n",
    "    for i in words:\n",
    "        if len(i)>k:\n",
    "            l.append(i)\n",
    "            print(i)\n",
    "            \n",
    "greater_words(\"Python program to find words which are greater\",5)"
   ]
  },
  {
   "cell_type": "markdown",
   "id": "9fea0747",
   "metadata": {},
   "source": [
    "# 2. Write a Python program for removing i-th character from a string?"
   ]
  },
  {
   "cell_type": "code",
   "execution_count": 25,
   "id": "9c2b7cba",
   "metadata": {},
   "outputs": [
    {
     "name": "stdout",
     "output_type": "stream",
     "text": [
      "enter a string: banglore\n",
      "enter index value to remove: 3\n"
     ]
    },
    {
     "data": {
      "text/plain": [
       "'banlore'"
      ]
     },
     "execution_count": 25,
     "metadata": {},
     "output_type": "execute_result"
    }
   ],
   "source": [
    "def remove_char(s,i):\n",
    "    prev_ch = s[:i]\n",
    "    next_ch = s[i+1:]\n",
    "    return prev_ch + next_ch\n",
    "\n",
    "s=input(\"enter a string: \")\n",
    "i=int(input(\"enter index value to remove: \"))\n",
    "\n",
    "remove_char(s,i)"
   ]
  },
  {
   "cell_type": "markdown",
   "id": "8205f29f",
   "metadata": {},
   "source": [
    "# 3. Write a Python program to split and join a string?"
   ]
  },
  {
   "cell_type": "code",
   "execution_count": 34,
   "id": "12da8746",
   "metadata": {},
   "outputs": [
    {
     "name": "stdout",
     "output_type": "stream",
     "text": [
      "['amazon', 'lenovo', 'ryzen']\n",
      "amazon -- lenovo -- ryzen\n"
     ]
    }
   ],
   "source": [
    "s=\"amazon lenovo ryzen\"\n",
    "print(s.split())\n",
    "print(' -- '.join(s.split()))"
   ]
  },
  {
   "cell_type": "markdown",
   "id": "3c09b0b5",
   "metadata": {},
   "source": [
    "# 4. Write a Python to check if a given string is binary string or not?"
   ]
  },
  {
   "cell_type": "code",
   "execution_count": null,
   "id": "1725befb",
   "metadata": {},
   "outputs": [],
   "source": [
    " def Check_Binary(s):\n",
    "    convert = set(s)\n",
    "    value = {'0','1'}\n",
    "    if convert == value or convert == {'0'} or convert == {'1'}:\n",
    "        return \"YES: String is Binary\"\n",
    "    else:\n",
    "        return \"NO: String is not Binary\"\n",
    "\n",
    "Check_Binary(\"101010\")"
   ]
  },
  {
   "cell_type": "markdown",
   "id": "9950a0e6",
   "metadata": {},
   "source": [
    "# 5. Write a Python program to find uncommon words from two Strings?"
   ]
  },
  {
   "cell_type": "code",
   "execution_count": 5,
   "id": "347dde37",
   "metadata": {},
   "outputs": [
    {
     "data": {
      "text/plain": [
       "'banana dog'"
      ]
     },
     "execution_count": 5,
     "metadata": {},
     "output_type": "execute_result"
    }
   ],
   "source": [
    "#5\n",
    "s=\"apple banana rat\"\n",
    "s1=\"rat dog apple\"\n",
    "\n",
    "def uncommon(s,s1): \n",
    "    l1=s.split()\n",
    "    l2=s1.split()\n",
    "    diff=\"\"\n",
    "    for i in l1:\n",
    "        if i not in l2:\n",
    "            diff=diff+i\n",
    "    for j in l2:\n",
    "        if j not in l1:\n",
    "            diff =diff+\" \"+j\n",
    "    return diff\n",
    "\n",
    "uncommon(s,s1)"
   ]
  },
  {
   "cell_type": "markdown",
   "id": "7f4c09c3",
   "metadata": {},
   "source": [
    "# 6. Write a Python to find all duplicate characters in string?"
   ]
  },
  {
   "cell_type": "code",
   "execution_count": 5,
   "id": "42b9809e",
   "metadata": {},
   "outputs": [
    {
     "name": "stdout",
     "output_type": "stream",
     "text": [
      "enter a string to check duplicate: character\n"
     ]
    },
    {
     "data": {
      "text/plain": [
       "['c', 'a', 'r']"
      ]
     },
     "execution_count": 5,
     "metadata": {},
     "output_type": "execute_result"
    }
   ],
   "source": [
    "def duplicate_char(s):\n",
    "    l=[]\n",
    "    for i in s:\n",
    "        if s.count(i)> 1:\n",
    "            if i not in l:\n",
    "                l.append(i)\n",
    "    return l\n",
    "    \n",
    "s=input(\"enter a string to check duplicate: \")\n",
    "\n",
    "duplicate_char(s) "
   ]
  },
  {
   "cell_type": "markdown",
   "id": "6850b489",
   "metadata": {},
   "source": [
    "# 7. Write a Python Program to check if a string contains any special character?"
   ]
  },
  {
   "cell_type": "code",
   "execution_count": 1,
   "id": "f2d7c9f9",
   "metadata": {},
   "outputs": [
    {
     "name": "stdout",
     "output_type": "stream",
     "text": [
      "Enter a string: drill*flow$copy@\n",
      "YES string contains special charcter\n"
     ]
    }
   ],
   "source": [
    "def Check_special_char(s):\n",
    "    sp_ch=\"!@#%^&*()_-+'':;,./\\?\"\n",
    "    \n",
    "    if any(i in sp_ch for i in s):\n",
    "        print(\"YES string contains special charcter\")\n",
    "    else:\n",
    "        print(\"NO special character present\")\n",
    "        \n",
    "s=input(\"Enter a string: \")\n",
    "\n",
    "Check_special_char(s)"
   ]
  },
  {
   "cell_type": "code",
   "execution_count": null,
   "id": "d7e2326a",
   "metadata": {},
   "outputs": [],
   "source": []
  }
 ],
 "metadata": {
  "kernelspec": {
   "display_name": "Python 3 (ipykernel)",
   "language": "python",
   "name": "python3"
  },
  "language_info": {
   "codemirror_mode": {
    "name": "ipython",
    "version": 3
   },
   "file_extension": ".py",
   "mimetype": "text/x-python",
   "name": "python",
   "nbconvert_exporter": "python",
   "pygments_lexer": "ipython3",
   "version": "3.7.13"
  }
 },
 "nbformat": 4,
 "nbformat_minor": 5
}
