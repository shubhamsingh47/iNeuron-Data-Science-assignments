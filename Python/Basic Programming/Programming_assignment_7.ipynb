{
 "cells": [
  {
   "cell_type": "markdown",
   "id": "88ac4997",
   "metadata": {},
   "source": [
    "# 1. Write a Python Program to find sum of array?"
   ]
  },
  {
   "cell_type": "code",
   "execution_count": 1,
   "id": "2474c4ff",
   "metadata": {},
   "outputs": [],
   "source": [
    "import numpy as np"
   ]
  },
  {
   "cell_type": "code",
   "execution_count": 2,
   "id": "ff6ab0e2",
   "metadata": {},
   "outputs": [
    {
     "data": {
      "text/plain": [
       "array([40, 36, 22, 56, 18])"
      ]
     },
     "execution_count": 2,
     "metadata": {},
     "output_type": "execute_result"
    }
   ],
   "source": [
    "arr=np.array([40,36,22,56,18])      ## using this arr as the array required in this assignment\n",
    "arr"
   ]
  },
  {
   "cell_type": "code",
   "execution_count": 3,
   "id": "e93c6db5",
   "metadata": {},
   "outputs": [
    {
     "name": "stdout",
     "output_type": "stream",
     "text": [
      "the sum of [40 36 22 56 18] = 172\n"
     ]
    }
   ],
   "source": [
    "def sumOfarray():\n",
    "    print(\"the sum of\",arr,\"=\",sum(arr))\n",
    "    \n",
    "sumOfarray()"
   ]
  },
  {
   "cell_type": "markdown",
   "id": "614c4693",
   "metadata": {},
   "source": [
    "# 2. Write a Python Program to find largest element in an array?"
   ]
  },
  {
   "cell_type": "code",
   "execution_count": 4,
   "id": "45ac7c1e",
   "metadata": {},
   "outputs": [
    {
     "name": "stdout",
     "output_type": "stream",
     "text": [
      "the largest element in array [40 36 22 56 18] is 56\n"
     ]
    }
   ],
   "source": [
    "def LargestArray():\n",
    "    print(\"the largest element in array\",arr,'is',sorted(arr)[-1])\n",
    "    \n",
    "LargestArray()"
   ]
  },
  {
   "cell_type": "markdown",
   "id": "eac7603d",
   "metadata": {},
   "source": [
    "# 3. Write a Python Program for array rotation?"
   ]
  },
  {
   "cell_type": "code",
   "execution_count": 5,
   "id": "7b44b620",
   "metadata": {},
   "outputs": [
    {
     "name": "stdout",
     "output_type": "stream",
     "text": [
      "the rotation of array [40 36 22 56 18] is [18 56 22 36 40]\n"
     ]
    }
   ],
   "source": [
    "def ArrayRotation():\n",
    "    print(\"the rotation of array\",arr,'is',arr[::-1])\n",
    "    \n",
    "ArrayRotation()"
   ]
  },
  {
   "cell_type": "markdown",
   "id": "2bd0ba3b",
   "metadata": {},
   "source": [
    "# 4. Write a Python Program to Split the array and add the first part to the end?"
   ]
  },
  {
   "cell_type": "code",
   "execution_count": 6,
   "id": "9193abee",
   "metadata": {},
   "outputs": [
    {
     "name": "stdout",
     "output_type": "stream",
     "text": [
      "enter position: 3\n"
     ]
    },
    {
     "data": {
      "text/plain": [
       "[6, 5, 4, 3, 2, 1, 9, 8, 7]"
      ]
     },
     "execution_count": 6,
     "metadata": {},
     "output_type": "execute_result"
    }
   ],
   "source": [
    "def SplitArray(ar,k):\n",
    "    ar = ar[k:]+ar[:k]\n",
    "    return ar\n",
    "\n",
    "k=int(input(\"enter position: \"))\n",
    "ar=[9,8,7,6,5,4,3,2,1]\n",
    "\n",
    "SplitArray(ar,k)"
   ]
  },
  {
   "cell_type": "markdown",
   "id": "f6ad7206",
   "metadata": {},
   "source": [
    "# 5. Write a Python Program to check if given array is Monotonic?"
   ]
  },
  {
   "cell_type": "code",
   "execution_count": 7,
   "id": "0b8fe797",
   "metadata": {},
   "outputs": [
    {
     "data": {
      "text/plain": [
       "array([40, 36, 22, 56, 18])"
      ]
     },
     "execution_count": 7,
     "metadata": {},
     "output_type": "execute_result"
    }
   ],
   "source": [
    "arr"
   ]
  },
  {
   "cell_type": "code",
   "execution_count": 8,
   "id": "10736f86",
   "metadata": {},
   "outputs": [
    {
     "name": "stdout",
     "output_type": "stream",
     "text": [
      "array is not monotonic\n"
     ]
    }
   ],
   "source": [
    "def Monotonic():\n",
    "    if(all(arr[i]<=arr[i+1] for i in range(len(arr)-1)) or all(arr[i]>=arr[i+1] for i in range(len(arr)-1))):\n",
    "        print(\"array is monotonic\")\n",
    "    else:\n",
    "        print(\"array is not monotonic\")\n",
    "        \n",
    "Monotonic()"
   ]
  },
  {
   "cell_type": "code",
   "execution_count": null,
   "id": "90e16837",
   "metadata": {},
   "outputs": [],
   "source": []
  }
 ],
 "metadata": {
  "kernelspec": {
   "display_name": "Python 3 (ipykernel)",
   "language": "python",
   "name": "python3"
  },
  "language_info": {
   "codemirror_mode": {
    "name": "ipython",
    "version": 3
   },
   "file_extension": ".py",
   "mimetype": "text/x-python",
   "name": "python",
   "nbconvert_exporter": "python",
   "pygments_lexer": "ipython3",
   "version": "3.9.7"
  }
 },
 "nbformat": 4,
 "nbformat_minor": 5
}
