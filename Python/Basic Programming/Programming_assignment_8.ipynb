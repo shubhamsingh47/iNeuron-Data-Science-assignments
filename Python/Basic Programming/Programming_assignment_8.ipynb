{
 "cells": [
  {
   "cell_type": "markdown",
   "id": "588e5a85",
   "metadata": {},
   "source": [
    "# 1. Write a Python Program to Add Two Matrices?"
   ]
  },
  {
   "cell_type": "code",
   "execution_count": 1,
   "id": "80a2dcfd",
   "metadata": {},
   "outputs": [],
   "source": [
    "import numpy as np"
   ]
  },
  {
   "cell_type": "code",
   "execution_count": 2,
   "id": "c56920f9",
   "metadata": {},
   "outputs": [
    {
     "data": {
      "text/plain": [
       "matrix([[1, 2, 3],\n",
       "        [4, 5, 6],\n",
       "        [6, 7, 8]])"
      ]
     },
     "execution_count": 2,
     "metadata": {},
     "output_type": "execute_result"
    }
   ],
   "source": [
    "mt1=np.matrix([[1,2,3],[4,5,6],[6,7,8]])\n",
    "mt1"
   ]
  },
  {
   "cell_type": "code",
   "execution_count": 3,
   "id": "8df3ee79",
   "metadata": {},
   "outputs": [
    {
     "data": {
      "text/plain": [
       "matrix([[9, 2, 6],\n",
       "        [4, 2, 7],\n",
       "        [3, 9, 1]])"
      ]
     },
     "execution_count": 3,
     "metadata": {},
     "output_type": "execute_result"
    }
   ],
   "source": [
    "mt2=np.matrix([[9,2,6],[4,2,7],[3,9,1]])\n",
    "mt2"
   ]
  },
  {
   "cell_type": "code",
   "execution_count": 10,
   "id": "b8776b36",
   "metadata": {},
   "outputs": [
    {
     "data": {
      "text/plain": [
       "matrix([[10,  4,  9],\n",
       "        [ 8,  7, 13],\n",
       "        [ 9, 16,  9]])"
      ]
     },
     "execution_count": 10,
     "metadata": {},
     "output_type": "execute_result"
    }
   ],
   "source": [
    "mt1+mt2     ## addition of two matrices mt1 and mt2"
   ]
  },
  {
   "cell_type": "markdown",
   "id": "a2954c4e",
   "metadata": {},
   "source": [
    "# 2. Write a Python Program to Multiply Two Matrices?"
   ]
  },
  {
   "cell_type": "code",
   "execution_count": 9,
   "id": "25c91715",
   "metadata": {},
   "outputs": [
    {
     "data": {
      "text/plain": [
       "matrix([[ 26,  33,  23],\n",
       "        [ 74,  72,  65],\n",
       "        [106,  98,  93]])"
      ]
     },
     "execution_count": 9,
     "metadata": {},
     "output_type": "execute_result"
    }
   ],
   "source": [
    "mt1*mt2"
   ]
  },
  {
   "cell_type": "markdown",
   "id": "3fbd7224",
   "metadata": {},
   "source": [
    "# 3. Write a Python Program to Transpose a Matrix?"
   ]
  },
  {
   "cell_type": "code",
   "execution_count": 13,
   "id": "0c6ba7dc",
   "metadata": {},
   "outputs": [
    {
     "data": {
      "text/plain": [
       "matrix([[1, 2, 3],\n",
       "        [4, 5, 6],\n",
       "        [6, 7, 8]])"
      ]
     },
     "execution_count": 13,
     "metadata": {},
     "output_type": "execute_result"
    }
   ],
   "source": [
    "# before Transpose\n",
    "mt1"
   ]
  },
  {
   "cell_type": "code",
   "execution_count": 11,
   "id": "1641bd74",
   "metadata": {},
   "outputs": [
    {
     "data": {
      "text/plain": [
       "matrix([[1, 4, 6],\n",
       "        [2, 5, 7],\n",
       "        [3, 6, 8]])"
      ]
     },
     "execution_count": 11,
     "metadata": {},
     "output_type": "execute_result"
    }
   ],
   "source": [
    "# After Transpose\n",
    "mt1.T"
   ]
  },
  {
   "cell_type": "markdown",
   "id": "2fc215eb",
   "metadata": {},
   "source": [
    "# 4. Write a Python Program to Sort Words in Alphabetic Order?"
   ]
  },
  {
   "cell_type": "code",
   "execution_count": 70,
   "id": "4f80e46c",
   "metadata": {},
   "outputs": [
    {
     "name": "stdout",
     "output_type": "stream",
     "text": [
      "Enter a String: THIs is A brand new day\n",
      "a brand day is new this\n"
     ]
    }
   ],
   "source": [
    "def SortWords():\n",
    "    s = input(\"Enter a String: \").lower()\n",
    "    st = sorted(s.split(' '))\n",
    "    print(' '.join(st))\n",
    "\n",
    "SortWords()"
   ]
  },
  {
   "cell_type": "markdown",
   "id": "daa976a0",
   "metadata": {},
   "source": [
    "# 5. Write a Python Program to Remove Punctuation From a String?"
   ]
  },
  {
   "cell_type": "code",
   "execution_count": 81,
   "id": "c0ee972b",
   "metadata": {},
   "outputs": [
    {
     "name": "stdout",
     "output_type": "stream",
     "text": [
      "enter a string: I! meant ;to' be\" bach /\n",
      "I meant to be bach \n"
     ]
    }
   ],
   "source": [
    "def RemovePunctuation():\n",
    "    s=input(\"enter a string: \")\n",
    "    string=''\n",
    "    punctuations = '''?@#$%^&*_~!()-[]{};:'\"\\,<>./'''\n",
    "    for i in s:\n",
    "        if i not in punctuations:\n",
    "            string+=i\n",
    "    print(string)        \n",
    "    \n",
    "RemovePunctuation()            "
   ]
  },
  {
   "cell_type": "code",
   "execution_count": null,
   "id": "32f056db",
   "metadata": {},
   "outputs": [],
   "source": []
  }
 ],
 "metadata": {
  "kernelspec": {
   "display_name": "Python 3 (ipykernel)",
   "language": "python",
   "name": "python3"
  },
  "language_info": {
   "codemirror_mode": {
    "name": "ipython",
    "version": 3
   },
   "file_extension": ".py",
   "mimetype": "text/x-python",
   "name": "python",
   "nbconvert_exporter": "python",
   "pygments_lexer": "ipython3",
   "version": "3.9.7"
  }
 },
 "nbformat": 4,
 "nbformat_minor": 5
}
