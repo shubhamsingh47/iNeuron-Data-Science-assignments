{
 "cells": [
  {
   "cell_type": "markdown",
   "id": "126f7d9c",
   "metadata": {},
   "source": [
    "# Question 1:\n",
    "Write a program that calculates and prints the value according to the given formula:\n",
    "Q = Square root of [(2 * C * D)/H]\n",
    "Following are the fixed values of C and H:\n",
    "C is 50. H is 30.\n",
    "D is the variable whose values should be input to your program in a comma-separated\n",
    "sequence.\n",
    "Example\n",
    "Let us assume the following comma separated input sequence is given to the program:\n",
    "100,150,180\n",
    "The output of the program should be:\n",
    "18,22,24"
   ]
  },
  {
   "cell_type": "code",
   "execution_count": 39,
   "id": "eb5ed4fa",
   "metadata": {},
   "outputs": [
    {
     "name": "stdout",
     "output_type": "stream",
     "text": [
      "100,150,180\n",
      "[18, 22, 24]\n"
     ]
    }
   ],
   "source": [
    "D=[int(x) for x in input().split(',')]\n",
    "C=50\n",
    "H=30\n",
    "l=[]\n",
    "for i in D:\n",
    "    a=2*C*i\n",
    "    Q=round(math.sqrt(a/H))\n",
    "    l.append(Q)\n",
    "print(l)\n",
    "    "
   ]
  },
  {
   "cell_type": "markdown",
   "id": "2a7ef094",
   "metadata": {},
   "source": [
    "# Question 2:\n",
    "Write a program which takes 2 digits, X,Y as input and generates a 2-dimensional array. The\n",
    "element value in the i-th row and j-th column of the array should be i*j.\n",
    "Note: i=0,1.., X-1; j=0,1,¡Y-1.\n",
    "Example\n",
    "Suppose the following inputs are given to the program:\n",
    "3,5\n",
    "Then, the output of the program should be:\n",
    "[[0, 0, 0, 0, 0], [0, 1, 2, 3, 4], [0, 2, 4, 6, 8]]"
   ]
  },
  {
   "cell_type": "code",
   "execution_count": 5,
   "id": "d3898d36",
   "metadata": {},
   "outputs": [
    {
     "name": "stdout",
     "output_type": "stream",
     "text": [
      "enter no. of rows: 3\n",
      "enter no. of cols: 5\n",
      "[[0, 0, 0, 0, 0], [0, 1, 2, 3, 4], [0, 2, 4, 6, 8]]\n"
     ]
    }
   ],
   "source": [
    "row_num = int(input(\"enter no. of rows: \"))\n",
    "col_num = int(input(\"enter no. of cols: \"))\n",
    "\n",
    "array_list = [[0 for j in range(col_num)] for i in range(row_num)]\n",
    "\n",
    "for i in range(row_num):\n",
    "    for j in range(col_num):\n",
    "        array_list[i][j] = i * j\n",
    "        \n",
    "print(array_list)"
   ]
  },
  {
   "cell_type": "code",
   "execution_count": 11,
   "id": "161e3087",
   "metadata": {},
   "outputs": [
    {
     "data": {
      "text/plain": [
       "[[0, 0, 0, 0, 0], [0, 0, 0, 0, 0], [0, 0, 0, 0, 0]]"
      ]
     },
     "execution_count": 11,
     "metadata": {},
     "output_type": "execute_result"
    }
   ],
   "source": [
    "[[0 for j in range(5)] for i in range(3)]"
   ]
  },
  {
   "cell_type": "markdown",
   "id": "efe1f6a9",
   "metadata": {},
   "source": [
    "# Question 3:\n",
    "Write a program that accepts a comma separated sequence of words as input and prints the\n",
    "words in a comma-separated sequence after sorting them alphabetically.\n",
    "Suppose the following input is supplied to the program:\n",
    "without,hello,bag,world\n",
    "Then, the output should be:\n",
    "bag,hello,without,world"
   ]
  },
  {
   "cell_type": "code",
   "execution_count": 46,
   "id": "b35fc210",
   "metadata": {},
   "outputs": [
    {
     "name": "stdout",
     "output_type": "stream",
     "text": [
      "without,hello,bag,world\n",
      "['bag', 'hello', 'without', 'world']\n"
     ]
    }
   ],
   "source": [
    "S=[str(x) for x in input().split(',')]\n",
    "l=sorted(S)\n",
    "print(l)"
   ]
  },
  {
   "cell_type": "markdown",
   "id": "97426af2",
   "metadata": {},
   "source": [
    "# Question 4:\n",
    "Write a program that accepts a sequence of whitespace separated words as input and prints\n",
    "the words after removing all duplicate words and sorting them alphanumerically.\n",
    "Suppose the following input is supplied to the program:\n",
    "hello world and practice makes perfect and hello world again\n",
    "Then, the output should be:\n",
    "again and hello makes perfect practice world"
   ]
  },
  {
   "cell_type": "code",
   "execution_count": 4,
   "id": "642552f1",
   "metadata": {},
   "outputs": [
    {
     "name": "stdout",
     "output_type": "stream",
     "text": [
      "hello how are you how\n",
      "['are', 'hello', 'how', 'you']\n"
     ]
    }
   ],
   "source": [
    "S=[str(x) for x in input().split( )]\n",
    "\n",
    "for i in S:\n",
    "    if (S.count(i)==1):\n",
    "        l=sorted(S)\n",
    "    else:\n",
    "        S.remove(i)\n",
    "print(l)\n",
    "        \n"
   ]
  },
  {
   "cell_type": "markdown",
   "id": "2049033c",
   "metadata": {},
   "source": [
    "# Question 5:\n",
    "Write a program that accepts a sentence and calculate the number of letters and digits.\n",
    "Suppose the following input is supplied to the program:\n",
    "hello world! 123\n",
    "Then, the output should be:\n",
    "LETTERS 10\n",
    "DIGITS 3"
   ]
  },
  {
   "cell_type": "code",
   "execution_count": 10,
   "id": "6e562e8c",
   "metadata": {},
   "outputs": [
    {
     "name": "stdout",
     "output_type": "stream",
     "text": [
      "hello world! 123\n",
      "digit: 3\n",
      "letter: 10\n"
     ]
    }
   ],
   "source": [
    "a=input()\n",
    "digit=0\n",
    "letter=0\n",
    "for i in a:\n",
    "    for j in i:\n",
    "        if(j.isdigit()):\n",
    "            digit=digit+1\n",
    "        elif (j.isalpha()):\n",
    "            letter=letter+1\n",
    "        else:\n",
    "            pass\n",
    "print('digit:',digit)\n",
    "print('letter:',letter)"
   ]
  },
  {
   "cell_type": "markdown",
   "id": "c9bb0734",
   "metadata": {},
   "source": [
    "# Question 6:\n",
    "A website requires the users to input username and password to register. Write a program to\n",
    "check the validity of password input by users.\n",
    "Following are the criteria for checking the password:\n",
    "1. At least 1 letter between [a-z]\n",
    "2. At least 1 number between [0-9]\n",
    "1. At least 1 letter between [A-Z]\n",
    "3. At least 1 character from [$#@]\n",
    "4. Minimum length of transaction password: 6\n",
    "5. Maximum length of transaction password: 12\n",
    "\n",
    "Your program should accept a sequence of comma separated passwords and will check them\n",
    "according to the above criteria. Passwords that match the criteria are to be printed, each\n",
    "separated by a comma.\n",
    "\n",
    "Example\n",
    "If the following passwords are given as input to the program:\n",
    "ABd1234@1,aF1#,2w3E*,2We3345\n",
    "Then, the output of the program should be:\n",
    "ABd1234@1"
   ]
  },
  {
   "cell_type": "code",
   "execution_count": 19,
   "id": "aafee8e7",
   "metadata": {},
   "outputs": [
    {
     "name": "stdout",
     "output_type": "stream",
     "text": [
      "Enter the Input String: ABd1234@1,aF1#,2w3E*,2We3345\n",
      "ABd1234@1\n"
     ]
    }
   ],
   "source": [
    "def Password():\n",
    "    password = input(\"Enter the Input String: \")\n",
    "    small_list = \"abcdefghijklmnopqrstuvwxyz\"\n",
    "    cap_list = \"ABCDEFGHIJKLMNOPQRSTUVWXYZ\"\n",
    "    num_list = \"0123456789\"\n",
    "    special_list = \"$#@\"\n",
    "    for x in password.split(\",\"):\n",
    "        if len(x) <= 12 and len(x) >=6 :\n",
    "            if (i.isupper() for i in x):\n",
    "                if (i.islower() for i in x):\n",
    "                    if any(i for i in x if i in special_list):\n",
    "                        print(x)\n",
    "                               \n",
    "Password() "
   ]
  },
  {
   "cell_type": "code",
   "execution_count": null,
   "id": "c8380e28",
   "metadata": {},
   "outputs": [],
   "source": []
  }
 ],
 "metadata": {
  "kernelspec": {
   "display_name": "Python 3 (ipykernel)",
   "language": "python",
   "name": "python3"
  },
  "language_info": {
   "codemirror_mode": {
    "name": "ipython",
    "version": 3
   },
   "file_extension": ".py",
   "mimetype": "text/x-python",
   "name": "python",
   "nbconvert_exporter": "python",
   "pygments_lexer": "ipython3",
   "version": "3.9.7"
  }
 },
 "nbformat": 4,
 "nbformat_minor": 5
}
