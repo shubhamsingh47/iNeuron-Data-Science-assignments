{
 "cells": [
  {
   "cell_type": "markdown",
   "id": "f5892873",
   "metadata": {},
   "source": [
    "### Q.1 define a function which takes integer and string as input and filter out integer and return it in a list."
   ]
  },
  {
   "cell_type": "code",
   "execution_count": 1,
   "id": "19aa123e",
   "metadata": {
    "scrolled": true
   },
   "outputs": [
    {
     "data": {
      "text/plain": [
       "[11, 470, 89878]"
      ]
     },
     "execution_count": 1,
     "metadata": {},
     "output_type": "execute_result"
    }
   ],
   "source": [
    "def filter_int(n):\n",
    "    l=[]\n",
    "    for i in n:\n",
    "        if type(i)!=str:\n",
    "            l.append(i)\n",
    "    return(l)\n",
    "\n",
    "filter_int([11,470,'abc','xyz',89878,'jojo'])"
   ]
  },
  {
   "cell_type": "markdown",
   "id": "db1a4c0e",
   "metadata": {},
   "source": [
    "### Q.2 define a function and add index of the number with itself"
   ]
  },
  {
   "cell_type": "code",
   "execution_count": 6,
   "id": "ec042489",
   "metadata": {},
   "outputs": [
    {
     "data": {
      "text/plain": [
       "[10, 21, 32, 43, 54, 65, 76, 87]"
      ]
     },
     "execution_count": 6,
     "metadata": {},
     "output_type": "execute_result"
    }
   ],
   "source": [
    "def addindex(n):\n",
    "    l=[]\n",
    "    for i in n:\n",
    "        a=i+(n.index(i))\n",
    "        l.append(a)\n",
    "    return(l)\n",
    "\n",
    "addindex([10,20,30,40,50,60,70,80])"
   ]
  },
  {
   "cell_type": "markdown",
   "id": "116e0ef2",
   "metadata": {},
   "source": [
    "### Q.3 define a function which takes height and radius as an arguments and returns the volume rounded of to the nearest hundredth."
   ]
  },
  {
   "cell_type": "code",
   "execution_count": 22,
   "id": "c3cd314b",
   "metadata": {},
   "outputs": [
    {
     "data": {
      "text/plain": [
       "3200.0"
      ]
     },
     "execution_count": 22,
     "metadata": {},
     "output_type": "execute_result"
    }
   ],
   "source": [
    "import math\n",
    "\n",
    "def findvol(r,h):\n",
    "    pi=math.pi\n",
    "    v=(1/3)*pi*r*r*h\n",
    "    return (round(v,-2))\n",
    "\n",
    "findvol(21,7)\n"
   ]
  },
  {
   "cell_type": "markdown",
   "id": "1aa61abb",
   "metadata": {},
   "source": [
    "### Q.4 define a function that gives number of dots with its corresponding triangle number of sequence"
   ]
  },
  {
   "cell_type": "code",
   "execution_count": 23,
   "id": "60f40607",
   "metadata": {},
   "outputs": [
    {
     "name": "stdout",
     "output_type": "stream",
     "text": [
      "7\n"
     ]
    },
    {
     "data": {
      "text/plain": [
       "28"
      ]
     },
     "execution_count": 23,
     "metadata": {},
     "output_type": "execute_result"
    }
   ],
   "source": [
    "def triangle(n):\n",
    "    a=0\n",
    "    for i in range(1,n+1):\n",
    "        b=i+a\n",
    "        a=b\n",
    "    return b\n",
    "\n",
    "n=int(input())\n",
    "\n",
    "triangle(n)        "
   ]
  },
  {
   "cell_type": "markdown",
   "id": "5fa1ac3b",
   "metadata": {},
   "source": [
    "### Q.5 create funtion that takes a list of numbers betwwn 1 and 10(excluding one number) and returns missing number"
   ]
  },
  {
   "cell_type": "code",
   "execution_count": 24,
   "id": "b2847152",
   "metadata": {},
   "outputs": [
    {
     "name": "stdout",
     "output_type": "stream",
     "text": [
      "5\n"
     ]
    }
   ],
   "source": [
    "def missing_num(l):\n",
    "    for i in range(1,11):\n",
    "        if i not in l:\n",
    "            print(i)\n",
    "            \n",
    "missing_num([1,2,3,4,6,7,8,9,10])"
   ]
  },
  {
   "cell_type": "code",
   "execution_count": null,
   "id": "ead46d00",
   "metadata": {},
   "outputs": [],
   "source": []
  }
 ],
 "metadata": {
  "kernelspec": {
   "display_name": "Python 3 (ipykernel)",
   "language": "python",
   "name": "python3"
  },
  "language_info": {
   "codemirror_mode": {
    "name": "ipython",
    "version": 3
   },
   "file_extension": ".py",
   "mimetype": "text/x-python",
   "name": "python",
   "nbconvert_exporter": "python",
   "pygments_lexer": "ipython3",
   "version": "3.9.7"
  }
 },
 "nbformat": 4,
 "nbformat_minor": 5
}
