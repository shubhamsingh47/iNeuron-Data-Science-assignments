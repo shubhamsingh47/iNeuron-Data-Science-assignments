{
 "cells": [
  {
   "cell_type": "markdown",
   "id": "7d2a6b15",
   "metadata": {},
   "source": [
    "# 1. Write a Python program to Extract Unique values dictionary values?"
   ]
  },
  {
   "cell_type": "code",
   "execution_count": 1,
   "id": "c5fd2f24",
   "metadata": {},
   "outputs": [
    {
     "data": {
      "text/plain": [
       "{1, 2, 3, 4, 5, 6, 7}"
      ]
     },
     "execution_count": 1,
     "metadata": {},
     "output_type": "execute_result"
    }
   ],
   "source": [
    "def Extract_value():\n",
    "    \n",
    "    d={'a':[1,2,3,4],'b':[4,5,6,1],'c':[6,7,2,1]}\n",
    "    \n",
    "    return {j for i in d.values() for j in i}\n",
    "    \n",
    "Extract_value()"
   ]
  },
  {
   "cell_type": "markdown",
   "id": "a744e8a9",
   "metadata": {},
   "source": [
    "# 2. Write a Python program to find the sum of all items in a dictionary?"
   ]
  },
  {
   "cell_type": "code",
   "execution_count": 2,
   "id": "79a9eb32",
   "metadata": {},
   "outputs": [
    {
     "data": {
      "text/plain": [
       "50"
      ]
     },
     "execution_count": 2,
     "metadata": {},
     "output_type": "execute_result"
    }
   ],
   "source": [
    "def Dict_Sum(d):              #2\n",
    "    sum=0\n",
    "    for i in d.keys():\n",
    "        if type(i)==int:\n",
    "            sum=sum+i\n",
    "    for j in d.values():\n",
    "        if type(j)==int:\n",
    "            sum=sum+j\n",
    "    return sum\n",
    "\n",
    "d={1:2,\"a\":\"b\",3:4,9:1,10:20}  \n",
    "\n",
    "Dict_Sum(d)"
   ]
  },
  {
   "cell_type": "markdown",
   "id": "c5578cd5",
   "metadata": {},
   "source": [
    "# 3. Write a Python program to Merging two Dictionaries?"
   ]
  },
  {
   "cell_type": "code",
   "execution_count": 3,
   "id": "783f40f3",
   "metadata": {},
   "outputs": [
    {
     "data": {
      "text/plain": [
       "{1: 'quick brown fox', 2: 'jump over the lazy dog'}"
      ]
     },
     "execution_count": 3,
     "metadata": {},
     "output_type": "execute_result"
    }
   ],
   "source": [
    "def Merge_dict(d,d1):    \n",
    "        d.update(d1)\n",
    "        return d\n",
    "    \n",
    "d ={1:'quick brown fox'}           # dictionary 1\n",
    "d1={2:'jump over the lazy dog'}    # dictionary 2\n",
    "\n",
    "Merge_dict(d,d1)"
   ]
  },
  {
   "cell_type": "markdown",
   "id": "f1acfd44",
   "metadata": {},
   "source": [
    "# 4. Write a Python program to convert key-values list to flat dictionary?"
   ]
  },
  {
   "cell_type": "code",
   "execution_count": 4,
   "id": "cb537be7",
   "metadata": {},
   "outputs": [
    {
     "data": {
      "text/plain": [
       "{1: 'a', 2: 'b', 3: 'c', 4: 'd', 5: 'e'}"
      ]
     },
     "execution_count": 4,
     "metadata": {},
     "output_type": "execute_result"
    }
   ],
   "source": [
    "key_list=[(1,'a'),(2,\"b\"),(3,'c'),(4,'d'),(5,'e')]\n",
    "dict(key_list)"
   ]
  },
  {
   "cell_type": "markdown",
   "id": "ae98a847",
   "metadata": {},
   "source": [
    "# 5. Write a Python program to insertion at the beginning in OrderedDict?"
   ]
  },
  {
   "cell_type": "code",
   "execution_count": 5,
   "id": "93a21733",
   "metadata": {},
   "outputs": [],
   "source": [
    "from collections import OrderedDict"
   ]
  },
  {
   "cell_type": "code",
   "execution_count": 6,
   "id": "f9bd6198",
   "metadata": {},
   "outputs": [
    {
     "name": "stdout",
     "output_type": "stream",
     "text": [
      "OrderedDict([('j', 78), (1, 'quick brown fox'), (2, 'jump over the lazy dog')])\n"
     ]
    }
   ],
   "source": [
    "insertd2={'j':78}\n",
    "orderDict=OrderedDict(list(insertd2.items())+list(d.items()))\n",
    "print(orderDict)"
   ]
  },
  {
   "cell_type": "markdown",
   "id": "618509e4",
   "metadata": {},
   "source": [
    "# 6. Write a Python program to check order of character in string using OrderedDict()?"
   ]
  },
  {
   "cell_type": "code",
   "execution_count": 15,
   "id": "62f47774",
   "metadata": {},
   "outputs": [
    {
     "data": {
      "text/plain": [
       "'the order of pattern incorrect '"
      ]
     },
     "execution_count": 15,
     "metadata": {},
     "output_type": "execute_result"
    }
   ],
   "source": [
    "def checkorder(enter,pattern):\n",
    "    my_dict=OrderedDict.fromkeys(enter)\n",
    "    p_length=0\n",
    "    for key , value in my_dict.items():\n",
    "        if (key==pattern[p_length]):\n",
    "            p_length = p_length + 1\n",
    "        elif(p_length == len(pattern)):\n",
    "            return 'the order of pattern is correct'\n",
    "    return 'the order of pattern incorrect '\n",
    "\n",
    "checkorder('laaya bars','laa')"
   ]
  },
  {
   "cell_type": "markdown",
   "id": "3c147fae",
   "metadata": {},
   "source": [
    "# 7. Write a Python program to sort Python Dictionaries by Key or Value?"
   ]
  },
  {
   "cell_type": "code",
   "execution_count": 7,
   "id": "5744d758",
   "metadata": {},
   "outputs": [
    {
     "name": "stdout",
     "output_type": "stream",
     "text": [
      "OrderedDict([('a', 3), ('b', 2), ('c', 1), ('j', 5)])\n"
     ]
    }
   ],
   "source": [
    "dic1={'a':3,'c':1,'j':5,'b':2}        #1 For keys\n",
    "\n",
    "dic1=OrderedDict(sorted(dic1.items()))\n",
    "\n",
    "print(dic1)"
   ]
  },
  {
   "cell_type": "code",
   "execution_count": null,
   "id": "aecbbd70",
   "metadata": {},
   "outputs": [],
   "source": []
  }
 ],
 "metadata": {
  "kernelspec": {
   "display_name": "Python 3 (ipykernel)",
   "language": "python",
   "name": "python3"
  },
  "language_info": {
   "codemirror_mode": {
    "name": "ipython",
    "version": 3
   },
   "file_extension": ".py",
   "mimetype": "text/x-python",
   "name": "python",
   "nbconvert_exporter": "python",
   "pygments_lexer": "ipython3",
   "version": "3.9.7"
  }
 },
 "nbformat": 4,
 "nbformat_minor": 5
}
