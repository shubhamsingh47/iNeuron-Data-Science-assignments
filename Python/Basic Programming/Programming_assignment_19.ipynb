{
 "cells": [
  {
   "cell_type": "markdown",
   "id": "67e407a1",
   "metadata": {},
   "source": [
    "# 1. Create a function that takes string as an input and returns each character repeated twice."
   ]
  },
  {
   "cell_type": "code",
   "execution_count": 8,
   "id": "195405f6",
   "metadata": {},
   "outputs": [
    {
     "name": "stdout",
     "output_type": "stream",
     "text": [
      "delhi\n",
      "ddeellhhii\n"
     ]
    }
   ],
   "source": [
    "def doublestr(n):\n",
    "    l=''\n",
    "    d=0\n",
    "    for i in n:\n",
    "        d=i*2\n",
    "        l=l+d\n",
    "    print(l)\n",
    "n=input()\n",
    "doublestr(n)"
   ]
  },
  {
   "cell_type": "markdown",
   "id": "cbec0938",
   "metadata": {},
   "source": [
    "# 2. Create a function that returns reverse of boolean value and returns not expected when another variable is inputted."
   ]
  },
  {
   "cell_type": "code",
   "execution_count": 10,
   "id": "56bf3183",
   "metadata": {},
   "outputs": [
    {
     "name": "stdout",
     "output_type": "stream",
     "text": [
      "suiiii\n",
      "not expected\n"
     ]
    }
   ],
   "source": [
    "def reverse(n):\n",
    "    if n=='True':\n",
    "        print('False')\n",
    "    elif n=='False':\n",
    "        print('True')\n",
    "    \n",
    "    else:\n",
    "        print('not expected')\n",
    "n=input()\n",
    "reverse(n)\n",
    "        "
   ]
  },
  {
   "cell_type": "markdown",
   "id": "3c53bd27",
   "metadata": {},
   "source": [
    "# 3. Create a function that returns thickness of a paper after folding it n number of times."
   ]
  },
  {
   "cell_type": "code",
   "execution_count": 11,
   "id": "b61447d7",
   "metadata": {},
   "outputs": [
    {
     "name": "stdout",
     "output_type": "stream",
     "text": [
      "Enter no of times of folded paper: 16\n",
      "paper folded 16 times is 32.768 mm\n"
     ]
    }
   ],
   "source": [
    "import math\n",
    "def thickness(n):\n",
    "    t=math.pow(2,(n-1))\n",
    "    print('paper folded',n,'times is',t/1000,'mm')\n",
    "n=int(input('Enter no of times of folded paper: '))\n",
    "thickness(n)"
   ]
  },
  {
   "cell_type": "markdown",
   "id": "6da1e0ab",
   "metadata": {},
   "source": [
    "# 4.Create a function that takes a single string as argument and returns an ordered list containing the indices of all capital letters in the string."
   ]
  },
  {
   "cell_type": "code",
   "execution_count": 12,
   "id": "c1ca2549",
   "metadata": {},
   "outputs": [
    {
     "name": "stdout",
     "output_type": "stream",
     "text": [
      "KolKATa\n",
      "[0, 3, 4, 5]\n"
     ]
    }
   ],
   "source": [
    "def indices(n):\n",
    "    l=[]\n",
    "    for i in range(len(n)):\n",
    "        if n[i].isupper():\n",
    "            l.append(i)\n",
    "        else:\n",
    "            pass\n",
    "    print(l)\n",
    "n=input()\n",
    "indices(n)"
   ]
  },
  {
   "cell_type": "markdown",
   "id": "1a57ecd2",
   "metadata": {},
   "source": [
    "# 5. Using list comprehensions, create a function that finds all even numbers from 1 to the given number."
   ]
  },
  {
   "cell_type": "code",
   "execution_count": 15,
   "id": "d0bed557",
   "metadata": {},
   "outputs": [
    {
     "name": "stdout",
     "output_type": "stream",
     "text": [
      "18\n",
      "[2, 4, 6, 8, 10, 12, 14, 16, 18]\n"
     ]
    }
   ],
   "source": [
    "def findeven(n):\n",
    "    l=[]\n",
    "    for i in range(n+1):\n",
    "        if i==0:\n",
    "            pass\n",
    "        elif i%2==0:\n",
    "            l.append(i)\n",
    "        else:\n",
    "            pass\n",
    "    print(l)\n",
    "\n",
    "n=int(input())\n",
    "\n",
    "findeven(n)         "
   ]
  },
  {
   "cell_type": "code",
   "execution_count": null,
   "id": "9ba0a6d1",
   "metadata": {},
   "outputs": [],
   "source": []
  }
 ],
 "metadata": {
  "kernelspec": {
   "display_name": "Python 3 (ipykernel)",
   "language": "python",
   "name": "python3"
  },
  "language_info": {
   "codemirror_mode": {
    "name": "ipython",
    "version": 3
   },
   "file_extension": ".py",
   "mimetype": "text/x-python",
   "name": "python",
   "nbconvert_exporter": "python",
   "pygments_lexer": "ipython3",
   "version": "3.9.7"
  }
 },
 "nbformat": 4,
 "nbformat_minor": 5
}
